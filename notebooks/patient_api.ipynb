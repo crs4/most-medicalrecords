{
 "cells": [
  {
   "cell_type": "markdown",
   "metadata": {},
   "source": [
    "# Prerequisites\n",
    "\n",
    "## For Server\n",
    "- git clone https://github.com/most-medicalrecord -b develop\n",
    "- cd most-medicalrecord\n",
    "- make develop\n",
    "- make sync\n",
    "- make run\n",
    "\n",
    "##For testing API with this notebook## \n",
    "- **Requests** library <http://docs.python-requests.org/en/latest/>\n",
    "\n",
    "## For testing pyEHR API endpoint ##\n",
    "- Download ova VirtualMachine from <http://156.148.18.70/files/pyEHR.ova>\n",
    "- Run VirtualMachine (virtualbox or vmware importing vmdk virtual disk in new virtual machine)\n",
    "- Configure VirtualMachine networking with NAT or BRIDGE\n",
    "- Wait for services start (up to 5 minutes)\n",
    "- Test dbservice status calling <http://virtualmachine:8080/check/status/dbservice>\n",
    "- Configure PYEHR_DB_SERVICE_IP on django settings.py\n",
    "- stop SERVER and restart with **make run**"
   ]
  },
  {
   "cell_type": "code",
   "execution_count": 5,
   "metadata": {
    "collapsed": true
   },
   "outputs": [],
   "source": [
    "import requests\n",
    "import json\n",
    "\n",
    "server_port = 8000"
   ]
  },
  {
   "cell_type": "code",
   "execution_count": 6,
   "metadata": {},
   "outputs": [
    {
     "name": "stdout",
     "output_type": "stream",
     "text": [
      "{\"access_token\": \"97ee06852b64af3e226415a4f7e76d78a914741e\", \"token_type\": \"Bearer\", \"expires_in\": 31535999, \"refresh_token\": \"0723836934b2de0ddd9f81942b8c42bd6fc31bbd\", \"scope\": \"read\"}\n"
     ]
    }
   ],
   "source": [
    "# Get Oauth2 Access Token specifying existing taskgroup_uuid\n",
    "\n",
    "arguments = {\n",
    "    'client_id': '8c96bf8cea26fa555fa8',\n",
    "    'client_secret': '4fd1f508b7b03fba6509da4c193157d7a2b20838',\n",
    "    'grant_type': 'password',\n",
    "    'username': 'admin',\n",
    "    'password': 'admin',\n",
    "    'taskgroup': '5dw2x3jfkftxue5a5izw6yiplbbn4dlo'\n",
    "}\n",
    "r = requests.post(\n",
    "    'http://127.0.0.1:{server_port}/oauth2/access_token/'.format(server_port=server_port), \n",
    "    data=arguments\n",
    ")\n",
    "print r.text\n",
    "access_token = json.loads(r.text)['access_token']"
   ]
  },
  {
   "cell_type": "code",
   "execution_count": 9,
   "metadata": {},
   "outputs": [
    {
     "name": "stdout",
     "output_type": "stream",
     "text": [
      "authenticated pong\n"
     ]
    }
   ],
   "source": [
    "#Test authenticated url\n",
    "\n",
    "payload = {'access_token': access_token}\n",
    "r = requests.get(\n",
    "    'http://127.0.0.1:{server_port}/medicalrecords/ping/auth/'.format(server_port=server_port), \n",
    "    params=payload\n",
    ")\n",
    "print r.text"
   ]
  },
  {
   "cell_type": "code",
   "execution_count": 25,
   "metadata": {},
   "outputs": [
    {
     "name": "stdout",
     "output_type": "stream",
     "text": [
      "{\"patient\": {\"demographic_uuid\": \"afbab3d293b643833d35cb972f26642cf77f1db4\", \"uuid\": \"blonlue77fhsf5dgmykvs2cio3h5yi6f\"}, \"success\": true}\n"
     ]
    }
   ],
   "source": [
    "#Create new patient with existing demographics and ehr uuid\n",
    "\n",
    "payload = {'access_token': access_token, 'demographic_uuid': 'afbab3d293b643833d35cb972f26642cf77f1db4'}\n",
    "\n",
    "r = requests.post(\n",
    "    'http://127.0.0.1:{server_port}/medicalrecords/patients/'.format(server_port=server_port), \n",
    "    params=payload\n",
    ")\n",
    "print r.text"
   ]
  },
  {
   "cell_type": "code",
   "execution_count": 39,
   "metadata": {},
   "outputs": [
    {
     "name": "stdout",
     "output_type": "stream",
     "text": [
      "{\"patients\": [{\"demographic_uuid\": \"afbab3d293b643833d35cb972f26642cf77f1db4\", \"uuid\": \"blonlue77fhsf5dgmykvs2cio3h5yi6f\"}], \"success\": true}\n"
     ]
    }
   ],
   "source": [
    "#Retrieve all patients for taskgroup\n",
    "payload = {'access_token': access_token}\n",
    "\n",
    "r = requests.get(\n",
    "    'http://127.0.0.1:{server_port}/medicalrecords/patients/'.format(server_port=server_port), \n",
    "    params=payload\n",
    ")\n",
    "print r.text\n",
    "data = json.loads(r.text)\n",
    "if len(data['patients']) > 0:\n",
    "    patient_uuid = data['patients'][0]['uuid']"
   ]
  },
  {
   "cell_type": "code",
   "execution_count": 38,
   "metadata": {},
   "outputs": [
    {
     "name": "stdout",
     "output_type": "stream",
     "text": [
      "{\"errordata\": {\"message\": \"request patient does not exists\", \"code\": 501}, \"success\": false}\n"
     ]
    }
   ],
   "source": [
    "#Retrieve patient by uuid\n",
    "payload = {'access_token': access_token}\n",
    "\n",
    "r = requests.get(\n",
    "    'http://127.0.0.1:{server_port}/medicalrecords/patients/{patient_uuid}/'.\n",
    "    format(server_port=server_port, patient_uuid=patient_uuid), \n",
    "    params=payload\n",
    ")\n",
    "print r.text"
   ]
  },
  {
   "cell_type": "code",
   "execution_count": 33,
   "metadata": {},
   "outputs": [
    {
     "name": "stdout",
     "output_type": "stream",
     "text": [
      "{\"patient\": {\"demographic_uuid\": \"a\", \"uuid\": \"drpp32jnmapx3roaf5j7k46saj2ynuba\"}, \"success\": true}\n"
     ]
    }
   ],
   "source": [
    "#Update patient data by uuid\n",
    "payload = {'access_token': access_token, 'demographic_uuid': 'a'}\n",
    "\n",
    "r = requests.put(\n",
    "    'http://127.0.0.1:{server_port}/medicalrecords/patients/{patient_uuid}/'.\n",
    "    format(server_port=server_port, patient_uuid=patient_uuid), \n",
    "    params=payload, data=data\n",
    ")\n",
    "print r.text"
   ]
  },
  {
   "cell_type": "code",
   "execution_count": 40,
   "metadata": {},
   "outputs": [
    {
     "name": "stdout",
     "output_type": "stream",
     "text": [
      "{\"patient\": {\"demographic_uuid\": \"afbab3d293b643833d35cb972f26642cf77f1db4\", \"uuid\": \"blonlue77fhsf5dgmykvs2cio3h5yi6f\"}, \"success\": true}\n"
     ]
    }
   ],
   "source": [
    "#Delete patient by uuid\n",
    "payload = {'access_token': access_token}\n",
    "\n",
    "r = requests.delete(\n",
    "    'http://127.0.0.1:{server_port}/medicalrecords/patients/{patient_uuid}/'.\n",
    "    format(server_port=server_port, patient_uuid=\"blonlue77fhsf5dgmykvs2cio3h5yi6f\"), \n",
    "    params=payload, data=data\n",
    ")\n",
    "print r.text"
   ]
  },
  {
   "cell_type": "code",
   "execution_count": null,
   "metadata": {
    "collapsed": true
   },
   "outputs": [],
   "source": []
  }
 ],
 "metadata": {
  "kernelspec": {
   "display_name": "Python 2",
   "language": "python",
   "name": "python2"
  },
  "language_info": {
   "codemirror_mode": {
    "name": "ipython",
    "version": 2
   },
   "file_extension": ".py",
   "mimetype": "text/x-python",
   "name": "python",
   "nbconvert_exporter": "python",
   "pygments_lexer": "ipython2",
   "version": "2.7.12+"
  }
 },
 "nbformat": 4,
 "nbformat_minor": 1
}
