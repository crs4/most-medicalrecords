{
 "cells": [
  {
   "cell_type": "markdown",
   "metadata": {},
   "source": [
    "# Please note that you need requests package to run this notebook"
   ]
  },
  {
   "cell_type": "code",
   "execution_count": null,
   "metadata": {
    "collapsed": true
   },
   "outputs": [],
   "source": [
    "import requests\n",
    "import json\n",
    "import pprint\n",
    "\n",
    "server_port = 9000"
   ]
  },
  {
   "cell_type": "markdown",
   "metadata": {},
   "source": [
    "# Get Oauth2 Access Token specifying existing taskgroup_uuid"
   ]
  },
  {
   "cell_type": "code",
   "execution_count": null,
   "metadata": {},
   "outputs": [],
   "source": [
    "arguments = {\n",
    "    'client_id': '8c96bf8cea26fa555fa8',\n",
    "    'client_secret': '4fd1f508b7b03fba6509da4c193157d7a2b20838',\n",
    "    'grant_type': 'password',\n",
    "    'username': 'admin',\n",
    "    'password': 'admin',\n",
    "    'taskgroup': '5dw2x3jfkftxue5a5izw6yiplbbn4dlo'\n",
    "}\n",
    "r = requests.post(\n",
    "    'http://127.0.0.1:{server_port}/oauth2/access_token/'.format(server_port=server_port), \n",
    "    data=arguments\n",
    ")\n",
    "pprint.pprint(r.json())\n",
    "access_token = json.loads(r.text)['access_token']"
   ]
  },
  {
   "cell_type": "markdown",
   "metadata": {},
   "source": [
    "# Test authenticated url "
   ]
  },
  {
   "cell_type": "code",
   "execution_count": null,
   "metadata": {},
   "outputs": [],
   "source": [
    "payload = {'access_token': access_token}\n",
    "r = requests.get(\n",
    "    'http://127.0.0.1:{server_port}/medicalrecords/ping/auth/'.format(server_port=server_port), \n",
    "    params=payload\n",
    ")\n",
    "pprint.pprint(r.text)"
   ]
  },
  {
   "cell_type": "markdown",
   "metadata": {},
   "source": [
    "# Create new patient with existing demographics and ehr uuid"
   ]
  },
  {
   "cell_type": "code",
   "execution_count": null,
   "metadata": {},
   "outputs": [],
   "source": [
    "payload = {'access_token': access_token, 'demographic_uuid': 'afbab3d293b643833d35cb972f26642cf77f1db4'}\n",
    "\n",
    "r = requests.post(\n",
    "    'http://127.0.0.1:{server_port}/medicalrecords/patients/'.format(server_port=server_port), \n",
    "    params=payload\n",
    ")\n",
    "pprint.pprint(r.json())"
   ]
  },
  {
   "cell_type": "markdown",
   "metadata": {},
   "source": [
    "# Retrieve all patients for taskgroup"
   ]
  },
  {
   "cell_type": "code",
   "execution_count": null,
   "metadata": {},
   "outputs": [],
   "source": [
    "payload = {'access_token': access_token}\n",
    "\n",
    "r = requests.get(\n",
    "    'http://127.0.0.1:{server_port}/medicalrecords/patients/'.format(server_port=server_port), \n",
    "    params=payload\n",
    ")\n",
    "data = r.json()\n",
    "pprint.pprint(data)\n",
    "if len(data['patients']) > 0:\n",
    "    patient_uuid = data['patients'][0]['uuid']"
   ]
  },
  {
   "cell_type": "markdown",
   "metadata": {},
   "source": [
    "# Retrieve patient by uuid"
   ]
  },
  {
   "cell_type": "code",
   "execution_count": null,
   "metadata": {},
   "outputs": [],
   "source": [
    "payload = {'access_token': access_token}\n",
    "\n",
    "r = requests.get(\n",
    "    'http://127.0.0.1:{server_port}/medicalrecords/patients/{patient_uuid}/'.\n",
    "    format(server_port=server_port, patient_uuid=patient_uuid), \n",
    "    params=payload\n",
    ")\n",
    "pprint.pprint(r.json())"
   ]
  },
  {
   "cell_type": "markdown",
   "metadata": {},
   "source": [
    "# Update patient data by uuid"
   ]
  },
  {
   "cell_type": "code",
   "execution_count": null,
   "metadata": {},
   "outputs": [],
   "source": [
    "payload = {'access_token': access_token, 'demographic_uuid': 'a'}\n",
    "\n",
    "r = requests.put(\n",
    "    'http://127.0.0.1:{server_port}/medicalrecords/patients/{patient_uuid}/'.\n",
    "    format(server_port=server_port, patient_uuid=patient_uuid), \n",
    "    params=payload, data=data\n",
    ")\n",
    "pprint.pprint(r.json())"
   ]
  },
  {
   "cell_type": "markdown",
   "metadata": {},
   "source": [
    "# Delete patient by uuid"
   ]
  },
  {
   "cell_type": "code",
   "execution_count": null,
   "metadata": {},
   "outputs": [],
   "source": [
    "payload = {'access_token': access_token}\n",
    "\n",
    "r = requests.delete(\n",
    "    'http://127.0.0.1:{server_port}/medicalrecords/patients/{patient_uuid}/'.\n",
    "    format(server_port=server_port, patient_uuid=patient_uuid), \n",
    "    params=payload, data=data\n",
    ")\n",
    "pprint.pprint(r.json())"
   ]
  },
  {
   "cell_type": "code",
   "execution_count": null,
   "metadata": {
    "collapsed": true
   },
   "outputs": [],
   "source": []
  }
 ],
 "metadata": {
  "kernelspec": {
   "display_name": "Python 2",
   "language": "python",
   "name": "python2"
  },
  "language_info": {
   "codemirror_mode": {
    "name": "ipython",
    "version": 2
   },
   "file_extension": ".py",
   "mimetype": "text/x-python",
   "name": "python",
   "nbconvert_exporter": "python",
   "pygments_lexer": "ipython2",
   "version": "2.7.12+"
  }
 },
 "nbformat": 4,
 "nbformat_minor": 1
}
