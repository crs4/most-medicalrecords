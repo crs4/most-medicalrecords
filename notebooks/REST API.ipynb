{
 "cells": [
  {
   "cell_type": "markdown",
   "metadata": {
    "deletable": true,
    "editable": true
   },
   "source": [
    "# Prerequisites\n",
    "\n",
    "## For Server\n",
    "- git clone https://github.com/most-medicalrecord -b develop\n",
    "- cd most-medicalrecord\n",
    "- make develop\n",
    "- make sync\n",
    "- make run\n",
    "\n",
    "##For testing API with this notebook## \n",
    "- **Requests** library <http://docs.python-requests.org/en/latest/>\n",
    "\n",
    "## For testing pyEHR API endpoint ##\n",
    "- Download ova VirtualMachine from <http://156.148.18.70/files/pyEHR.ova>\n",
    "- Run VirtualMachine (virtualbox or vmware importing vmdk virtual disk in new virtual machine)\n",
    "- Configure VirtualMachine networking with NAT or BRIDGE\n",
    "- Wait for services start (up to 5 minutes)\n",
    "- Test dbservice status calling <http://virtualmachine:8080/check/status/dbservice>\n",
    "- Configure PYEHR_DB_SERVICE_IP on django settings.py\n",
    "- stop SERVER and restart with **make run**"
   ]
  },
  {
   "cell_type": "code",
   "execution_count": 1,
   "metadata": {
    "collapsed": false,
    "deletable": true,
    "editable": true
   },
   "outputs": [
    {
     "name": "stdout",
     "output_type": "stream",
     "text": [
      "{\"access_token\": \"e41edf9e651311575c119b07391e6a62011155c2\", \"token_type\": \"Bearer\", \"expires_in\": 2591999, \"scope\": \"read\"}\n"
     ]
    }
   ],
   "source": [
    "#Get Oauth2 Access Token specifying existing taskgroup_uuid\n",
    "\n",
    "import requests\n",
    "import json\n",
    "\n",
    "server_port = 9000\n",
    "\n",
    "arguments = {\n",
    "             'client_id': '8c96bf8cea26fa555fa8',\n",
    "             'client_secret': '4fd1f508b7b03fba6509da4c193157d7a2b20838',\n",
    "             'grant_type': 'password',\n",
    "             'username': 'admin',\n",
    "             'password': 'admin',\n",
    "             'taskgroup': '5dw2x3jfkftxue5a5izw6yiplbbn4dlo'\n",
    "             }\n",
    "r = requests.post(\n",
    "                  'http://127.0.0.1:{server_port}/oauth2/access_token/'.format(server_port=server_port), \n",
    "                  data=arguments\n",
    "                  )\n",
    "print r.text\n",
    "\n",
    "access_token = json.loads(r.text)['access_token']"
   ]
  },
  {
   "cell_type": "code",
   "execution_count": 2,
   "metadata": {
    "collapsed": false,
    "deletable": true,
    "editable": true
   },
   "outputs": [
    {
     "name": "stdout",
     "output_type": "stream",
     "text": [
      "authenticated pong\n"
     ]
    }
   ],
   "source": [
    "#Test authenticated url\n",
    "\n",
    "payload = {'access_token': access_token}\n",
    "r = requests.get(\n",
    "                    'http://127.0.0.1:{server_port}/medicalrecords/ping/auth/'.format(server_port=server_port), \n",
    "                    params=payload\n",
    "                  )\n",
    "print r.text"
   ]
  },
  {
   "cell_type": "code",
   "execution_count": 19,
   "metadata": {
    "collapsed": false,
    "deletable": true,
    "editable": true
   },
   "outputs": [
    {
     "name": "stdout",
     "output_type": "stream",
     "text": [
      "{\"patient\": {\"demographic_uuid\": \"w5hsc5z2hzw7q2igevsjldxjnjkrc27q\", \"ehr_uuid\": \"PATIENT_00\", \"uuid\": \"iomrspncvrufkhx6mev5pjhaaclsluxl\"}, \"success\": true}\n"
     ]
    }
   ],
   "source": [
    "#Create new patient record with existing demographics and ehr uuid\n",
    "\n",
    "payload = {'access_token': access_token, 'ehr_uuid' : 'PATIENT_00'}\n",
    "\n",
    "r = requests.post(\n",
    "    'http://127.0.0.1:{server_port}/medicalrecords/patients/'.format(server_port=server_port), \n",
    "    params=payload\n",
    ")\n",
    "print r.text"
   ]
  },
  {
   "cell_type": "code",
   "execution_count": 20,
   "metadata": {
    "collapsed": false,
    "deletable": true,
    "editable": true
   },
   "outputs": [
    {
     "name": "stdout",
     "output_type": "stream",
     "text": [
      "{\"patients\": [{\"demographic_uuid\": \"w5hsc5z2hzw7q2igevsjldxjnjkrc27q\", \"ehr_uuid\": \"PATIENT_00\", \"uuid\": \"iomrspncvrufkhx6mev5pjhaaclsluxl\"}], \"success\": true}\n"
     ]
    }
   ],
   "source": [
    "#Retrieve all patients for taskgroup\n",
    "payload = {'access_token': access_token}\n",
    "\n",
    "r = requests.get(\n",
    "    'http://127.0.0.1:{server_port}/medicalrecords/patients/'.format(server_port=server_port), \n",
    "    params=payload\n",
    ")\n",
    "print r.text\n",
    "data = json.loads(r.text)\n",
    "patient_uuid = data['patients'][0]['uuid']"
   ]
  },
  {
   "cell_type": "code",
   "execution_count": 21,
   "metadata": {
    "collapsed": false,
    "deletable": true,
    "editable": true
   },
   "outputs": [
    {
     "name": "stdout",
     "output_type": "stream",
     "text": [
      "{\"patient\": {\"demographic_uuid\": \"w5hsc5z2hzw7q2igevsjldxjnjkrc27q\", \"ehr_uuid\": \"PATIENT_00\", \"uuid\": \"iomrspncvrufkhx6mev5pjhaaclsluxl\"}, \"success\": true}\n"
     ]
    }
   ],
   "source": [
    "#Retrieve patient by uuid\n",
    "payload = {'access_token': access_token}\n",
    "\n",
    "r = requests.get(\n",
    "    'http://127.0.0.1:{server_port}/medicalrecords/patients/{patient_uuid}/'.format(server_port=server_port, patient_uuid=patient_uuid), \n",
    "    params=payload\n",
    ")\n",
    "print r.text"
   ]
  },
  {
   "cell_type": "code",
   "execution_count": 16,
   "metadata": {
    "collapsed": false,
    "deletable": true,
    "editable": true
   },
   "outputs": [
    {
     "name": "stdout",
     "output_type": "stream",
     "text": [
      "{\"patient\": {\"demographic_uuid\": \"4l3xgugymbdfcvuv26h6fnklie56b53y\", \"ehr_uuid\": \"TEST_EHR_ID3\", \"uuid\": \"6yiz3nzbd3dgnonguedmuh3kibbdkzqy\"}, \"success\": true}\n"
     ]
    }
   ],
   "source": [
    "#Update patient data by uuid\n",
    "payload = {'access_token': access_token, 'ehr_uuid' : 'TEST_EHR_ID3'}\n",
    "\n",
    "r = requests.put(\n",
    "    'http://127.0.0.1:{server_port}/medicalrecords/patients/{patient_uuid}/'.format(server_port=server_port, patient_uuid=patient_uuid), \n",
    "    params=payload, data=data\n",
    ")\n",
    "print r.text"
   ]
  },
  {
   "cell_type": "code",
   "execution_count": 17,
   "metadata": {
    "collapsed": false,
    "deletable": true,
    "editable": true
   },
   "outputs": [
    {
     "name": "stdout",
     "output_type": "stream",
     "text": [
      "{\"patient\": {\"demographic_uuid\": \"4l3xgugymbdfcvuv26h6fnklie56b53y\", \"ehr_uuid\": \"TEST_EHR_ID3\", \"uuid\": \"6yiz3nzbd3dgnonguedmuh3kibbdkzqy\"}, \"success\": true}\n"
     ]
    }
   ],
   "source": [
    "#Delete patient by uuid\n",
    "payload = {'access_token': access_token}\n",
    "\n",
    "r = requests.delete(\n",
    "    'http://127.0.0.1:{server_port}/medicalrecords/patients/{patient_uuid}/'.format(server_port=server_port, patient_uuid=patient_uuid), \n",
    "    params=payload, data=data\n",
    ")\n",
    "print r.text"
   ]
  },
  {
   "cell_type": "code",
   "execution_count": null,
   "metadata": {
    "collapsed": true,
    "deletable": true,
    "editable": true
   },
   "outputs": [],
   "source": []
  }
 ],
 "metadata": {
  "kernelspec": {
   "display_name": "Python 2",
   "language": "python",
   "name": "python2"
  },
  "language_info": {
   "codemirror_mode": {
    "name": "ipython",
    "version": 2
   },
   "file_extension": ".py",
   "mimetype": "text/x-python",
   "name": "python",
   "nbconvert_exporter": "python",
   "pygments_lexer": "ipython2",
   "version": "2.7.12"
  }
 },
 "nbformat": 4,
 "nbformat_minor": 0
}
