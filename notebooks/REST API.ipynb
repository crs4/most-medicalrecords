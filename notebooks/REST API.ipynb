{
 "metadata": {
  "name": ""
 },
 "nbformat": 3,
 "nbformat_minor": 0,
 "worksheets": [
  {
   "cells": [
    {
     "cell_type": "markdown",
     "metadata": {},
     "source": [
      "#Prerequisites#\n",
      "\n",
      "##For Server##\n",
      "- git clone https://github.com/most-medicalrecord -b develop\n",
      "- cd most-medicalrecord\n",
      "- make develop\n",
      "- make sync\n",
      "- make run\n",
      "\n",
      "##For testing API with this notebook## \n",
      "- **Requests** library <http://docs.python-requests.org/en/latest/>"
     ]
    },
    {
     "cell_type": "code",
     "collapsed": false,
     "input": [
      "#Get Oauth2 Access Token specifying existing taskgroup_uuid\n",
      "\n",
      "import requests\n",
      "import json\n",
      "\n",
      "arguments = {\n",
      "             'client_id': '8c96bf8cea26fa555fa8',\n",
      "             'client_secret': '4fd1f508b7b03fba6509da4c193157d7a2b20838',\n",
      "             'grant_type': 'password',\n",
      "             'username': 'admin',\n",
      "             'password': 'admin',\n",
      "             'taskgroup': '5dw2x3jfkftxue5a5izw6yiplbbn4dlo'\n",
      "             }\n",
      "r = requests.post(\n",
      "                  'http://127.0.0.1:8000/oauth2/access_token/', \n",
      "                  data=arguments\n",
      "                  )\n",
      "print r.text\n",
      "\n",
      "access_token = json.loads(r.text)['access_token']"
     ],
     "language": "python",
     "metadata": {},
     "outputs": [
      {
       "output_type": "stream",
       "stream": "stdout",
       "text": [
        "{\"access_token\": \"01ff374d9709598c765bae55fdd2602acbe90b51\", \"token_type\": \"Bearer\", \"expires_in\": 2591999, \"scope\": \"read\"}\n"
       ]
      }
     ],
     "prompt_number": 26
    },
    {
     "cell_type": "code",
     "collapsed": false,
     "input": [
      "#Test authenticated url\n",
      "\n",
      "payload = {'access_token': access_token}\n",
      "r = requests.get(\n",
      "                    'http://127.0.0.1:8000/medicalrecord/ping/auth/', \n",
      "                    params=payload\n",
      "                  )\n",
      "print r.text"
     ],
     "language": "python",
     "metadata": {},
     "outputs": [
      {
       "output_type": "stream",
       "stream": "stdout",
       "text": [
        "authenticated pong\n"
       ]
      }
     ],
     "prompt_number": 33
    },
    {
     "cell_type": "code",
     "collapsed": false,
     "input": [
      "#Create new patient record with existing demographics and ehr uuid\n",
      "\n",
      "payload = {'access_token': access_token, 'ehr_uuid' : 'TEST_EHR_ID1'}\n",
      "\n",
      "r = requests.get(\n",
      "    'http://127.0.0.1:8000/medicalrecord/patients/create/', \n",
      "    params=payload\n",
      ")\n",
      "print r.text"
     ],
     "language": "python",
     "metadata": {},
     "outputs": [
      {
       "output_type": "stream",
       "stream": "stdout",
       "text": [
        "{\"patient\": {\"demographic_uuid\": \"y4fmhvekn4o3wmzwmzz2ui6qcwjgrlqy\", \"ehr_uuid\": \"TEST_EHR_ID1\", \"uuid\": \"gr53ncqwzwfvmjygbudvhodm65fl4wrx\"}, \"success\": true}\n"
       ]
      }
     ],
     "prompt_number": 51
    },
    {
     "cell_type": "code",
     "collapsed": false,
     "input": [
      "#Retrieve all patients for taskgroup\n",
      "payload = {'access_token': access_token}\n",
      "\n",
      "r = requests.get(\n",
      "    'http://127.0.0.1:8000/medicalrecord/patients/', \n",
      "    params=payload\n",
      ")\n",
      "print r.text"
     ],
     "language": "python",
     "metadata": {},
     "outputs": [
      {
       "output_type": "stream",
       "stream": "stdout",
       "text": [
        "{\"patients\": [{\"demographic_uuid\": \"yaby4psdo3xuxoyk7q4gbtaq2xyh2lub\", \"ehr_uuid\": \"ajtltyswazidru3v2r4zkvslxgfkbt36\", \"uuid\": \"zrliaq7rklb5j3hd2wti2t2vfxjhy3u4\"}, {\"demographic_uuid\": \"zikrke7qmknaugko6pq4mvkfsztnplnn\", \"ehr_uuid\": \"n2kozeex5jsxgffhvs4q2canhad5kmvi\", \"uuid\": \"zxzjog4ycxnhdlzme4of7u5svznrr63c\"}, {\"demographic_uuid\": \"egy26wpm2bak54zcd5lsoysq4l5hstzv\", \"ehr_uuid\": \"nasmcriyzbc7w75bf45nbkegrpo6t5w7\", \"uuid\": \"7e724rvijslwynjv6abetczqjvreyenm\"}, {\"demographic_uuid\": \"4mz3lfex62oqaygfugh37g7mzvsmfjv5\", \"ehr_uuid\": \"3iwjpxw6w6hapiifjrgatgwelounhsi6\", \"uuid\": \"lbchcx5jcqn7ic4ahus4kkonm753gxj4\"}, {\"demographic_uuid\": \"27qlknnvw5ci43xhc6alqjtczqwtvfle\", \"ehr_uuid\": \"fvojs5y3oqmpk25d5ssgu54ae4yk4d7j\", \"uuid\": \"g46yjg5suhvjc3a2nlpbfdlk2jle6onh\"}, {\"demographic_uuid\": \"lflron7tnrzyviumykenietyrhz22lal\", \"ehr_uuid\": \"w6mybyapwcarnqorbkbyhhhlqe4zttc3\", \"uuid\": \"viip6owys3guwlom46vq44orsfo5mcuh\"}, {\"demographic_uuid\": \"lp4yftdmmdmydjmae3eywb242yi7e4vb\", \"ehr_uuid\": \"zdmuffgefe7cahxwktynhqsym2ydxwvt\", \"uuid\": \"6mvvfnkmqhy7bh7fsolzihi77pelphxr\"}, {\"demographic_uuid\": \"vm5lcujwp2pec2xvzkvkawkrs2ntwlaq\", \"ehr_uuid\": \"s33ppcpclnmta3ea5ujfkrt747cnxzhr\", \"uuid\": \"vxo7ttxdaz7bixkunihfhelm4ydln6px\"}, {\"demographic_uuid\": \"4ctney2hk6fa7b7ahwfbh3wyuzfn44dg\", \"ehr_uuid\": \"izqkm732d7lxz5f5joqsorc66mseeaxx\", \"uuid\": \"7ixwdycnps76ozukhq26cpxtfzejvn3i\"}, {\"demographic_uuid\": \"ktbm5h3pma4pblup5uta23cp2yk5oc6i\", \"ehr_uuid\": \"jtmgpj7yjdro34ewbxh6gfbhxkpfivpr\", \"uuid\": \"43cg3tnrwiwbufn4tjyczegc55sxx5jl\"}, {\"demographic_uuid\": \"biq7xu7zfbg6rbqobkeue43havmwwd24\", \"ehr_uuid\": \"spskuygjq2kyc4rdafbrdduxyvey7qso\", \"uuid\": \"vtx746udaenllcx4bjjykthfwjeh43ho\"}, {\"demographic_uuid\": \"5e3stbdrvvr7flbzpvgto3wdtnjdcwgu\", \"ehr_uuid\": \"3k4e6jczcomttmote64a3h6vsquteihp\", \"uuid\": \"wzrpetynt547cnpb54rj6j4griyhxo5t\"}, {\"demographic_uuid\": \"537wfzogzph5fpl4lip5xsq2jz6xj5la\", \"ehr_uuid\": \"TEST_EHR_ID\", \"uuid\": \"lewdcqv75zub6abcj3fyxcmg3u74zb3d\"}, {\"demographic_uuid\": \"y4fmhvekn4o3wmzwmzz2ui6qcwjgrlqy\", \"ehr_uuid\": \"TEST_EHR_ID1\", \"uuid\": \"gr53ncqwzwfvmjygbudvhodm65fl4wrx\"}], \"success\": true}\n"
       ]
      }
     ],
     "prompt_number": 52
    }
   ],
   "metadata": {}
  }
 ]
}