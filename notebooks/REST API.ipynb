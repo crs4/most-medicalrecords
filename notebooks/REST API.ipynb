{
 "metadata": {
  "name": ""
 },
 "nbformat": 3,
 "nbformat_minor": 0,
 "worksheets": [
  {
   "cells": [
    {
     "cell_type": "markdown",
     "metadata": {},
     "source": [
      "#Prerequisites#\n",
      "\n",
      "##For Server##\n",
      "- git clone https://github.com/most-medicalrecord -b develop\n",
      "- cd most-medicalrecord\n",
      "- make develop\n",
      "- make sync\n",
      "- make run\n",
      "\n",
      "##For testing API with this notebook## \n",
      "- **Requests** library <http://docs.python-requests.org/en/latest/>"
     ]
    },
    {
     "cell_type": "code",
     "collapsed": false,
     "input": [
      "#Get Oauth2 Access Token specifying existing taskgroup_uuid\n",
      "\n",
      "import requests\n",
      "import json\n",
      "\n",
      "arguments = {\n",
      "             'client_id': '8c96bf8cea26fa555fa8',\n",
      "             'client_secret': '4fd1f508b7b03fba6509da4c193157d7a2b20838',\n",
      "             'grant_type': 'password',\n",
      "             'username': 'admin',\n",
      "             'password': 'admin',\n",
      "             'taskgroup': '5dw2x3jfkftxue5a5izw6yiplbbn4dlo'\n",
      "             }\n",
      "r = requests.post(\n",
      "                  'http://127.0.0.1:8000/oauth2/access_token/', \n",
      "                  data=arguments\n",
      "                  )\n",
      "print r.text\n",
      "\n",
      "access_token = json.loads(r.text)['access_token']"
     ],
     "language": "python",
     "metadata": {},
     "outputs": [
      {
       "output_type": "stream",
       "stream": "stdout",
       "text": [
        "{\"access_token\": \"8477dc51fd1324c3cf10d9f69f80e08ec9b5f729\", \"token_type\": \"Bearer\", \"expires_in\": 2591999, \"scope\": \"read\"}\n"
       ]
      }
     ],
     "prompt_number": 3
    },
    {
     "cell_type": "code",
     "collapsed": false,
     "input": [
      "#Test authenticated url\n",
      "\n",
      "payload = {'access_token': access_token}\n",
      "r = requests.get(\n",
      "                    'http://127.0.0.1:8000/medicalrecords/ping/auth/', \n",
      "                    params=payload\n",
      "                  )\n",
      "print r.text"
     ],
     "language": "python",
     "metadata": {},
     "outputs": [
      {
       "output_type": "stream",
       "stream": "stdout",
       "text": [
        "authenticated pong\n"
       ]
      }
     ],
     "prompt_number": 5
    },
    {
     "cell_type": "code",
     "collapsed": false,
     "input": [
      "#Create new patient record with existing demographics and ehr uuid\n",
      "\n",
      "payload = {'access_token': access_token, 'ehr_uuid' : 'TEST_EHR_ID2'}\n",
      "\n",
      "r = requests.post(\n",
      "    'http://127.0.0.1:8000/medicalrecords/patients/', \n",
      "    params=payload\n",
      ")\n",
      "print r.text"
     ],
     "language": "python",
     "metadata": {},
     "outputs": [
      {
       "output_type": "stream",
       "stream": "stdout",
       "text": [
        "{\"patient\": {\"demographic_uuid\": \"dey4o2f6qgv6txbm7z3rpjfdrjdpchks\", \"ehr_uuid\": \"TEST_EHR_ID2\", \"uuid\": \"myqbeldnlts5gqll55ixbvijn5omh6b7\"}, \"success\": true}\n"
       ]
      }
     ],
     "prompt_number": 34
    },
    {
     "cell_type": "code",
     "collapsed": false,
     "input": [
      "#Retrieve all patients for taskgroup\n",
      "payload = {'access_token': access_token}\n",
      "\n",
      "r = requests.get(\n",
      "    'http://127.0.0.1:8000/medicalrecords/patients/', \n",
      "    params=payload\n",
      ")\n",
      "print r.text\n",
      "data = json.loads(r.text)\n",
      "patient_uuid = data['patients'][0]['uuid']"
     ],
     "language": "python",
     "metadata": {},
     "outputs": [
      {
       "output_type": "stream",
       "stream": "stdout",
       "text": [
        "{\"patients\": [{\"demographic_uuid\": \"dey4o2f6qgv6txbm7z3rpjfdrjdpchks\", \"ehr_uuid\": \"TEST_EHR_ID2\", \"uuid\": \"myqbeldnlts5gqll55ixbvijn5omh6b7\"}], \"success\": true}\n"
       ]
      }
     ],
     "prompt_number": 35
    },
    {
     "cell_type": "code",
     "collapsed": false,
     "input": [
      "#Retrieve patient by uuid\n",
      "payload = {'access_token': access_token}\n",
      "\n",
      "r = requests.get(\n",
      "    'http://127.0.0.1:8000/medicalrecords/patients/{patient_uuid}/'.format(patient_uuid=patient_uuid), \n",
      "    params=payload\n",
      ")\n",
      "print r.text"
     ],
     "language": "python",
     "metadata": {},
     "outputs": [
      {
       "output_type": "stream",
       "stream": "stdout",
       "text": [
        "{\"patient\": {\"demographic_uuid\": \"dey4o2f6qgv6txbm7z3rpjfdrjdpchks\", \"ehr_uuid\": \"TEST_EHR_ID2\", \"uuid\": \"myqbeldnlts5gqll55ixbvijn5omh6b7\"}, \"success\": true}\n"
       ]
      }
     ],
     "prompt_number": 36
    },
    {
     "cell_type": "code",
     "collapsed": false,
     "input": [
      "#Update patient data by uuid\n",
      "payload = {'access_token': access_token, 'ehr_uuid' : 'TEST_EHR_ID3'}\n",
      "\n",
      "r = requests.put(\n",
      "    'http://127.0.0.1:8000/medicalrecords/patients/{patient_uuid}/'.format(patient_uuid=patient_uuid), \n",
      "    params=payload, data=data\n",
      ")\n",
      "print r.text"
     ],
     "language": "python",
     "metadata": {},
     "outputs": [
      {
       "output_type": "stream",
       "stream": "stdout",
       "text": [
        "{\"patient\": {\"demographic_uuid\": \"dey4o2f6qgv6txbm7z3rpjfdrjdpchks\", \"ehr_uuid\": \"TEST_EHR_ID3\", \"uuid\": \"myqbeldnlts5gqll55ixbvijn5omh6b7\"}, \"success\": true}\n"
       ]
      }
     ],
     "prompt_number": 37
    },
    {
     "cell_type": "code",
     "collapsed": false,
     "input": [
      "#Delete patient by uuid\n",
      "payload = {'access_token': access_token}\n",
      "\n",
      "r = requests.delete(\n",
      "    'http://127.0.0.1:8000/medicalrecords/patients/{patient_uuid}/'.format(patient_uuid=patient_uuid), \n",
      "    params=payload, data=data\n",
      ")\n",
      "print r.text"
     ],
     "language": "python",
     "metadata": {},
     "outputs": [
      {
       "output_type": "stream",
       "stream": "stdout",
       "text": [
        "{\"errordata\": {\"message\": \"request patient does not exists\", \"code\": 501}, \"success\": false}\n"
       ]
      }
     ],
     "prompt_number": 33
    }
   ],
   "metadata": {}
  }
 ]
}