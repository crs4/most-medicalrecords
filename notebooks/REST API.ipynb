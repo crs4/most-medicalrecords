{
 "metadata": {
  "name": ""
 },
 "nbformat": 3,
 "nbformat_minor": 0,
 "worksheets": [
  {
   "cells": [
    {
     "cell_type": "markdown",
     "metadata": {},
     "source": [
      "#Prerequisites#\n",
      "\n",
      "##For Server##\n",
      "- make develop\n",
      "- make sync\n",
      "- make run\n",
      "\n",
      "##For testing API with this notebook## \n",
      "- **Requests** library <http://docs.python-requests.org/en/latest/>"
     ]
    },
    {
     "cell_type": "code",
     "collapsed": false,
     "input": [
      "#Get Oauth2 Access Token specifying existing taskgroup_uuid\n",
      "\n",
      "import requests\n",
      "import json\n",
      "\n",
      "arguments = {\n",
      "             'client_id': '8c96bf8cea26fa555fa8',\n",
      "             'client_secret': '4fd1f508b7b03fba6509da4c193157d7a2b20838',\n",
      "             'grant_type': 'password',\n",
      "             'username': 'admin',\n",
      "             'password': 'admin',\n",
      "             'taskgroup': '5dw2x3jfkftxue5a5izw6yiplbbn4dlo'\n",
      "             }\n",
      "r = requests.post(\n",
      "                  'http://127.0.0.1:8000/oauth2/access_token/', \n",
      "                  data=arguments\n",
      "                  )\n",
      "print r.text\n",
      "\n",
      "access_token = json.loads(r.text)['access_token']"
     ],
     "language": "python",
     "metadata": {},
     "outputs": [
      {
       "output_type": "stream",
       "stream": "stdout",
       "text": [
        "{\"access_token\": \"5a75b746f0f6ff7630697a187d63e3db5eb8b756\", \"token_type\": \"Bearer\", \"expires_in\": 2591999, \"scope\": \"read\"}\n"
       ]
      }
     ],
     "prompt_number": 18
    },
    {
     "cell_type": "code",
     "collapsed": false,
     "input": [
      "#Test authenticated url\n",
      "\n",
      "payload = {'access_token': access_token}\n",
      "r = requests.get(\n",
      "                    'http://127.0.0.1:8000/medicalrecord/ping/auth/', \n",
      "                    params=payload\n",
      "                  )\n",
      "print r.text"
     ],
     "language": "python",
     "metadata": {},
     "outputs": [
      {
       "output_type": "stream",
       "stream": "stdout",
       "text": [
        "authenticated pong\n"
       ]
      }
     ],
     "prompt_number": 19
    },
    {
     "cell_type": "code",
     "collapsed": false,
     "input": [
      "#Create new patient record with existing demographics and ehr uuid\n",
      "\n",
      "payload = {'access_token': 'c33c36ac1062041cc562748a405e6e41565288ac'}\n",
      "\n",
      "params = {'ehr_id' : 'TEST_EHR_ID'}\n",
      "\n",
      "r = requests.get(\n",
      "                    'http://127.0.0.1:8000/medicalrecord/patient/create/', \n",
      "                    params=payload, data=params\n",
      "                  )\n",
      "print r.text"
     ],
     "language": "python",
     "metadata": {},
     "outputs": []
    }
   ],
   "metadata": {}
  }
 ]
}