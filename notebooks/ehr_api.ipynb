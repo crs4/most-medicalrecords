{
 "cells": [
  {
   "cell_type": "markdown",
   "metadata": {},
   "source": [
    "# Prerequisites\n",
    "\n",
    "## For Server \n",
    "- git clone https://github.com/most-medicalrecord -b develop\n",
    "- cd most-medicalrecord\n",
    "- make develop\n",
    "- make sync\n",
    "- make run\n",
    "\n",
    "##For testing API with this notebook## \n",
    "- **Requests** library <http://docs.python-requests.org/en/latest/>\n",
    "\n",
    "## For testing pyEHR API endpoint\n",
    "- Download ova VirtualMachine from <http://156.148.18.70/files/pyEHR.ova>\n",
    "- Run VirtualMachine (virtualbox or vmware importing vmdk virtual disk in new virtual machine)\n",
    "- Configure VirtualMachine networking with NAT or BRIDGE\n",
    "- Wait for services start (up to 5 minutes)\n",
    "- Test dbservice status calling <http://virtualmachine:8080/check/status/dbservice>\n",
    "- Configure PYEHR_DB_SERVICE_IP on django settings.py\n",
    "- stop SERVER and restart with **make run**"
   ]
  },
  {
   "cell_type": "code",
   "execution_count": 1,
   "metadata": {},
   "outputs": [
    {
     "name": "stdout",
     "output_type": "stream",
     "text": [
      "{\"access_token\": \"6772f8e4a167eb35d875e9b7552603cca7b87fd3\", \"token_type\": \"Bearer\", \"expires_in\": 31535999, \"refresh_token\": \"87060aec592942e8e921d576e1c1c0ff2e985809\", \"scope\": \"read\"}\n"
     ]
    }
   ],
   "source": [
    "#Get Oauth2 Access Token specifying existing taskgroup_uuid\n",
    "\n",
    "import requests\n",
    "import json\n",
    "import pprint\n",
    "\n",
    "server_port = 8000\n",
    "\n",
    "arguments = {\n",
    "             'client_id': '8c96bf8cea26fa555fa8',\n",
    "             'client_secret': '4fd1f508b7b03fba6509da4c193157d7a2b20838',\n",
    "             'grant_type': 'password',\n",
    "             'username': 'admin',\n",
    "             'password': 'admin',\n",
    "             'taskgroup': '5dw2x3jfkftxue5a5izw6yiplbbn4dlo'\n",
    "             }\n",
    "r = requests.post(\n",
    "                  'http://127.0.0.1:{server_port}/oauth2/access_token/'.format(server_port=server_port), \n",
    "                  data=arguments\n",
    "                  )\n",
    "print r.text\n",
    "\n",
    "access_token = json.loads(r.text)['access_token']"
   ]
  },
  {
   "cell_type": "code",
   "execution_count": 2,
   "metadata": {
    "scrolled": true
   },
   "outputs": [
    {
     "name": "stdout",
     "output_type": "stream",
     "text": [
      "DBService daemon running\n"
     ]
    }
   ],
   "source": [
    "# Get EHR DBService status\n",
    "\n",
    "payload = {'access_token': access_token}\n",
    "r = requests.get(\n",
    "    'http://127.0.0.1:{server_port}/medicalrecords/ehr/status/'.format(server_port=server_port), \n",
    "    params=payload)\n",
    "print r.text"
   ]
  },
  {
   "cell_type": "code",
   "execution_count": 3,
   "metadata": {},
   "outputs": [
    {
     "name": "stdout",
     "output_type": "stream",
     "text": [
      "{\"patient\": {\"demographic_uuid\": \"afbab3d293b643833d35cb972f26642cf77f1db4\", \"ehr_uuid\": \"plqa4mckhd33nslx4vplm5hklwe36fqi\", \"uuid\": \"2tppdtslwxwa77j6ozqdgidtvdgcmmwl\"}, \"success\": true}\n",
      "patient id: 2tppdtslwxwa77j6ozqdgidtvdgcmmwl\n"
     ]
    }
   ],
   "source": [
    "# Create patient record\n",
    "# The patient uuid is the first of the most-demo database (CARLO VERDI)\n",
    "payload = {'access_token': access_token, 'demographic_uuid': 'afbab3d293b643833d35cb972f26642cf77f1db4'}\n",
    "\n",
    "r = requests.post(\n",
    "    'http://127.0.0.1:{server_port}/medicalrecords/patients/'.format(server_port=server_port), \n",
    "    params=payload\n",
    ")\n",
    "print r.text\n",
    "data = json.loads(r.text)\n",
    "patient_id = data['patient']['uuid']\n",
    "print 'patient id: %s' % patient_id"
   ]
  },
  {
   "cell_type": "code",
   "execution_count": 4,
   "metadata": {},
   "outputs": [
    {
     "name": "stdout",
     "output_type": "stream",
     "text": [
      "{\"RECORD\": {\"record_id\": \"plqa4mckhd33nslx4vplm5hklwe36fqi\", \"active\": true, \"ehr_records\": [], \"creation_time\": 1493717432.802065, \"last_update\": 1493717432.802065}, \"SUCCESS\": true}\n"
     ]
    }
   ],
   "source": [
    "#Create ehr patient record \n",
    "payload = {'access_token': access_token}\n",
    "\n",
    "r = requests.post(\n",
    "    'http://127.0.0.1:{server_port}/medicalrecords/ehr/{patient_id}/'.\n",
    "    format(server_port=server_port, patient_id=patient_id), \n",
    "    params=payload\n",
    ")\n",
    "print r.text\n"
   ]
  },
  {
   "cell_type": "code",
   "execution_count": 5,
   "metadata": {},
   "outputs": [
    {
     "name": "stdout",
     "output_type": "stream",
     "text": [
      "{\"RECORD\": {\"ehr_data\": {\"archetype_details\": {\"items\": {\"at0001\": {\"archetype_details\": {\"data\": {\"at0001\": [{\"events\": [{\"at0002\": {\"data\": {\"at0003\": [{\"items\": {\"at0013\": {\"items\": {\"at0014\": {\"value\": {\"text\": \"Ill Illr\"}}, \"at0015\": {\"value\": {\"selected\": false}}}}, \"at0010\": {\"items\": {\"at0012\": {\"value\": {\"selected\": true}}, \"at0011\": {\"value\": {\"text\": \"Something, somtehing\"}}}}, \"at0004\": {\"items\": {\"at0005\": {\"value\": {\"text\": \"Bla Bla Bla\"}}, \"at0006\": {\"value\": {\"selected\": true}}}}, \"at0007\": {\"items\": {\"at0009\": {\"value\": {\"selected\": false}}, \"at0008\": {\"value\": {\"text\": \"Yada yada\"}}}}}}]}}}]}]}}, \"archetype_class\": \"openEHR-EHR-OBSERVATION.fast_scan.v1\"}}}, \"archetype_class\": \"openEHR-EHR-SECTION.report_demo_most.v1\"}, \"creation_time\": 1493717528.054957, \"patient_id\": \"plqa4mckhd33nslx4vplm5hklwe36fqi\", \"record_id\": \"f65a2f54f5404ef8808f8eb5acc61465\", \"version\": 1, \"active\": true, \"last_update\": 1493717528.054957}, \"SUCCESS\": true}\n"
     ]
    }
   ],
   "source": [
    "#Create ehr medical record\n",
    "params = {'access_token': access_token}\n",
    "\n",
    "ehr_data = {\n",
    "  \"archetype_class\": \"openEHR-EHR-SECTION.report_demo_most.v1\",\n",
    "  \"archetype_details\": {\n",
    "    \"items\": {\n",
    "      \"at0001\": {\n",
    "        \"archetype_class\": \"openEHR-EHR-OBSERVATION.fast_scan.v1\",\n",
    "        \"archetype_details\": {\n",
    "          \"data\": {\n",
    "            \"at0001\": [\n",
    "              {\n",
    "                \"events\": [\n",
    "                  {\n",
    "                    \"at0002\": {\n",
    "                      \"data\": {\n",
    "                        \"at0003\": [\n",
    "                          {\n",
    "                            \"items\": {\n",
    "                              \"at0004\": {\n",
    "                                \"items\": {\n",
    "                                  \"at0005\": {\n",
    "                                    \"value\": {\n",
    "                                      \"text\": \"Bla Bla Bla\"\n",
    "                                    }\n",
    "                                  },\n",
    "                                  \"at0006\": {\n",
    "                                    \"value\": {\n",
    "                                      \"selected\": True\n",
    "                                    }\n",
    "                                  }\n",
    "                                }\n",
    "                              },\n",
    "                              \"at0007\": {\n",
    "                                \"items\": {\n",
    "                                  \"at0008\": {\n",
    "                                    \"value\": {\n",
    "                                      \"text\": \"Yada yada\"\n",
    "                                    }\n",
    "                                  },\n",
    "                                  \"at0009\": {\n",
    "                                    \"value\": {\n",
    "                                      \"selected\": False\n",
    "                                    }\n",
    "                                  }\n",
    "                                }\n",
    "                              },\n",
    "                              \"at0010\": {\n",
    "                                \"items\": {\n",
    "                                  \"at0011\": {\n",
    "                                    \"value\": {\n",
    "                                      \"text\": \"Something, somtehing\"\n",
    "                                    }\n",
    "                                  },\n",
    "                                  \"at0012\": {\n",
    "                                    \"value\": {\n",
    "                                      \"selected\": True\n",
    "                                    }\n",
    "                                  }\n",
    "                                }\n",
    "                              },\n",
    "                              \"at0013\": {\n",
    "                                \"items\": {\n",
    "                                  \"at0014\": {\n",
    "                                    \"value\": {\n",
    "                                      \"text\": \"Ill Illr\"\n",
    "                                    }\n",
    "                                  },\n",
    "                                  \"at0015\": {\n",
    "                                    \"value\": {\n",
    "                                      \"selected\": False\n",
    "                                    }\n",
    "                                  }\n",
    "                                }\n",
    "                              }\n",
    "                            }\n",
    "                          }\n",
    "                        ]\n",
    "                      }\n",
    "                    }\n",
    "                  }\n",
    "                ]\n",
    "              }\n",
    "            ]\n",
    "          }\n",
    "        }\n",
    "      }\n",
    "    }\n",
    "  }\n",
    "}\n",
    "\n",
    "r = requests.post(\n",
    "    'http://127.0.0.1:{server_port}/medicalrecords/ehr/{patient_id}/records/'.\n",
    "        format(server_port=server_port, patient_id=patient_id), \n",
    "    params=params, json=ehr_data\n",
    ")\n",
    "print r.text"
   ]
  },
  {
   "cell_type": "code",
   "execution_count": 7,
   "metadata": {},
   "outputs": [
    {
     "name": "stdout",
     "output_type": "stream",
     "text": [
      "number of records: 5 \n",
      "{u'RECORD': {u'active': True,\n",
      "             u'creation_time': 1493717432.802065,\n",
      "             u'ehr_records': [{u'active': True,\n",
      "                               u'creation_time': 1493717528.054957,\n",
      "                               u'ehr_data': {u'archetype_class': u'openEHR-EHR-SECTION.report_demo_most.v1',\n",
      "                                             u'archetype_details': {}},\n",
      "                               u'last_update': 1493717528.054957,\n",
      "                               u'patient_id': u'plqa4mckhd33nslx4vplm5hklwe36fqi',\n",
      "                               u'record_id': u'f65a2f54f5404ef8808f8eb5acc61465',\n",
      "                               u'version': 1}],\n",
      "             u'last_update': 1493717528.268835,\n",
      "             u'record_id': u'plqa4mckhd33nslx4vplm5hklwe36fqi'},\n",
      " u'SUCCESS': True}\n"
     ]
    }
   ],
   "source": [
    "#Check new EHR entry for current medicalrecord patient\n",
    "payload = {'access_token': access_token}\n",
    "r = requests.get(\n",
    "    'http://127.0.0.1:{server_port}/medicalrecords/ehr/{patient_id}/'.\n",
    "    format(server_port=server_port, patient_id=patient_id), \n",
    "    params=payload\n",
    ")\n",
    "try:\n",
    "    data = json.loads(r.text)\n",
    "except ValueError:\n",
    "    print r.text\n",
    "else:\n",
    "    print 'number of records: %s ' % len(data['RECORD'])\n",
    "    pprint.pprint(data)\n",
    "    record_id = data['RECORD']['ehr_records'][-1]['record_id']\n",
    "    #print 'id of last record: %s' % record_id\n",
    "    #print data['RECORD']['ehr_records'][-1]"
   ]
  },
  {
   "cell_type": "code",
   "execution_count": 34,
   "metadata": {},
   "outputs": [
    {
     "name": "stdout",
     "output_type": "stream",
     "text": [
      "{\"RECORD\": {\"ehr_data\": {\"archetype_details\": {\"items\": {\"at0001\": {\"archetype_details\": {\"data\": {\"at0001\": [{\"events\": [{\"at0002\": {\"data\": {\"at0003\": [{\"items\": {\"at0013\": {\"items\": {\"at0014\": {\"value\": {\"text\": \"Ill Illr\"}}, \"at0015\": {\"value\": {\"selected\": false}}}}, \"at0010\": {\"items\": {\"at0012\": {\"value\": {\"selected\": true}}, \"at0011\": {\"value\": {\"text\": \"Something, somtehing\"}}}}, \"at0004\": {\"items\": {\"at0005\": {\"value\": {\"text\": \"Bla Bla Bla\"}}, \"at0006\": {\"value\": {\"selected\": true}}}}, \"at0007\": {\"items\": {\"at0009\": {\"value\": {\"selected\": false}}, \"at0008\": {\"value\": {\"text\": \"Yada yada\"}}}}}}]}}}]}]}}, \"archetype_class\": \"openEHR-EHR-OBSERVATION.fast_scan.v1\"}}}, \"archetype_class\": \"openEHR-EHR-SECTION.report_demo_most.v1\"}, \"creation_time\": 1490726979.80775, \"patient_id\": \"qxp5owqkf55gfncdp43mmq3h4twm3pjg\", \"record_id\": \"b44552a86642473a9db81bb208713eea\", \"version\": 1, \"active\": true, \"last_update\": 1490726979.80775}, \"SUCCESS\": true}\n",
      "{u'RECORD': {u'active': True,\n",
      "             u'creation_time': 1490726979.80775,\n",
      "             u'ehr_data': {u'archetype_class': u'openEHR-EHR-SECTION.report_demo_most.v1',\n",
      "                           u'archetype_details': {u'items': {u'at0001': {u'archetype_class': u'openEHR-EHR-OBSERVATION.fast_scan.v1',\n",
      "                                                                         u'archetype_details': {u'data': {u'at0001': [{u'events': [{u'at0002': {u'data': {u'at0003': [{u'items': {u'at0004': {u'items': {u'at0005': {u'value': {u'text': u'Bla Bla Bla'}},\n",
      "                                                                                                                                                                                                         u'at0006': {u'value': {u'selected': True}}}},\n",
      "                                                                                                                                                                                  u'at0007': {u'items': {u'at0008': {u'value': {u'text': u'Yada yada'}},\n",
      "                                                                                                                                                                                                         u'at0009': {u'value': {u'selected': False}}}},\n",
      "                                                                                                                                                                                  u'at0010': {u'items': {u'at0011': {u'value': {u'text': u'Something, somtehing'}},\n",
      "                                                                                                                                                                                                         u'at0012': {u'value': {u'selected': True}}}},\n",
      "                                                                                                                                                                                  u'at0013': {u'items': {u'at0014': {u'value': {u'text': u'Ill Illr'}},\n",
      "                                                                                                                                                                                                         u'at0015': {u'value': {u'selected': False}}}}}}]}}}]}]}}}}}},\n",
      "             u'last_update': 1490726979.80775,\n",
      "             u'patient_id': u'qxp5owqkf55gfncdp43mmq3h4twm3pjg',\n",
      "             u'record_id': u'b44552a86642473a9db81bb208713eea',\n",
      "             u'version': 1},\n",
      " u'SUCCESS': True}\n"
     ]
    }
   ],
   "source": [
    "#Get new EHR record\n",
    "payload = {'access_token': access_token}\n",
    "r = requests.get(\n",
    "    'http://127.0.0.1:{server_port}/medicalrecords/ehr/{patient_id}/records/{record_id}/'.\n",
    "    format(server_port=server_port, patient_id=patient_id, record_id=record_id), \n",
    "    params=payload\n",
    ")\n",
    "print r.text\n",
    "data = json.loads(r.text)\n",
    "pprint.pprint(data)"
   ]
  },
  {
   "cell_type": "code",
   "execution_count": 35,
   "metadata": {},
   "outputs": [
    {
     "name": "stdout",
     "output_type": "stream",
     "text": [
      "{\"MESSAGE\": \"EHR record with ID 70d81fbb4212448a93fe882925679313 successfully hidden\", \"SUCCESS\": true}\n"
     ]
    }
   ],
   "source": [
    "#Create and delete new ehr medical record\n",
    "params = {'access_token': access_token}\n",
    "\n",
    "ehr_data = {\n",
    "  \"archetype_class\": \"openEHR.TEST-EVALUATION.v1\",\n",
    "  \"archetype_details\": {\n",
    "    \"at0001\": \"val1\",\n",
    "    \"at0002\": \"val2\"\n",
    "  }\n",
    "}\n",
    "\n",
    "r = requests.post(\n",
    "    'http://127.0.0.1:{server_port}/medicalrecords/ehr/{patient_id}/records/'.\n",
    "    format(server_port=server_port, patient_id=patient_id), \n",
    "    params=params, json=ehr_data\n",
    ")\n",
    "data = json.loads(r.text)\n",
    "record_id = data['RECORD']['record_id']\n",
    "\n",
    "payload = {'access_token': access_token}\n",
    "r = requests.delete(\n",
    "    'http://127.0.0.1:{server_port}/medicalrecords/ehr/{patient_id}/records/{record_id}/'.\n",
    "        format(server_port=server_port, patient_id=patient_id, record_id=record_id), \n",
    "    params=payload, data={})\n",
    "\n",
    "print r.text"
   ]
  },
  {
   "cell_type": "code",
   "execution_count": 36,
   "metadata": {},
   "outputs": [
    {
     "name": "stdout",
     "output_type": "stream",
     "text": [
      "{\"patient\": {\"demographic_uuid\": \"ltlr4ca7xo7x32gmfbwdkc7is4ronr6f\", \"ehr_uuid\": \"uqzotqswcpjtvqht4vla4r4kubxkqy7v\", \"uuid\": \"iygyjyvyx7pmi7xnx6kdmznkr4t64yxb\"}, \"success\": true}\n",
      "{\"RECORD\": {\"record_id\": \"uqzotqswcpjtvqht4vla4r4kubxkqy7v\", \"active\": true, \"ehr_records\": [], \"creation_time\": 1490727911.642054, \"last_update\": 1490727911.642054}, \"SUCCESS\": true}\n",
      "{\"RECORD\": {\"record_id\": \"uqzotqswcpjtvqht4vla4r4kubxkqy7v\", \"active\": false, \"ehr_records\": [], \"creation_time\": 1490727911.642054, \"last_update\": 1490727911.838461}, \"SUCCESS\": true}\n"
     ]
    }
   ],
   "source": [
    "#Create and delete patient, and ehr patient\n",
    "\n",
    "#Create medical record patient\n",
    "payload = {'access_token': access_token}\n",
    "\n",
    "r = requests.post(\n",
    "    'http://127.0.0.1:{server_port}/medicalrecords/patients/'.format(server_port=server_port), \n",
    "    params=payload\n",
    ")\n",
    "print r.text\n",
    "data = json.loads(r.text)\n",
    "patient_id = data['patient']['uuid']\n",
    "\n",
    "#Create ehr patient record \n",
    "payload = {'access_token': access_token}\n",
    "\n",
    "r = requests.post(\n",
    "    'http://127.0.0.1:{server_port}/medicalrecords/ehr/{patient_id}/'.\n",
    "    format(server_port=server_port, patient_id=patient_id), \n",
    "params=payload)\n",
    "print r.text\n",
    "\n",
    "#Delete ehr patient record\n",
    "\n",
    "r = requests.delete(\n",
    "    'http://127.0.0.1:{server_port}/medicalrecords/ehr/{patient_id}/'.\n",
    "    format(server_port=server_port, patient_id=patient_id), \n",
    "params=payload, data={})\n",
    "\n",
    "print r.text"
   ]
  },
  {
   "cell_type": "code",
   "execution_count": 37,
   "metadata": {},
   "outputs": [
    {
     "name": "stdout",
     "output_type": "stream",
     "text": [
      "{\"RECORD\": {\"record_id\": \"uqzotqswcpjtvqht4vla4r4kubxkqy7v\", \"active\": false, \"ehr_records\": [], \"creation_time\": 1490727911.642054, \"last_update\": 1490727911.838461}, \"SUCCESS\": true}\n"
     ]
    }
   ],
   "source": [
    "r = requests.delete(\n",
    "    'http://127.0.0.1:{server_port}/medicalrecords/ehr/{patient_id}/'.\n",
    "    format(server_port=server_port, patient_id=patient_id), \n",
    "params=payload, data={})\n",
    "\n",
    "print r.text"
   ]
  },
  {
   "cell_type": "code",
   "execution_count": null,
   "metadata": {
    "collapsed": true
   },
   "outputs": [],
   "source": []
  }
 ],
 "metadata": {
  "kernelspec": {
   "display_name": "Python 2",
   "language": "python",
   "name": "python2"
  },
  "language_info": {
   "codemirror_mode": {
    "name": "ipython",
    "version": 2
   },
   "file_extension": ".py",
   "mimetype": "text/x-python",
   "name": "python",
   "nbconvert_exporter": "python",
   "pygments_lexer": "ipython2",
   "version": "2.7.12+"
  }
 },
 "nbformat": 4,
 "nbformat_minor": 1
}
