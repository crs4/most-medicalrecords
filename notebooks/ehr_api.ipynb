{
 "cells": [
  {
   "cell_type": "markdown",
   "metadata": {},
   "source": [
    "# Please note that you need requests package to run this notebook"
   ]
  },
  {
   "cell_type": "code",
   "execution_count": null,
   "metadata": {
    "collapsed": true
   },
   "outputs": [],
   "source": [
    "import requests\n",
    "import json\n",
    "import pprint\n",
    "\n",
    "server_port = 8000"
   ]
  },
  {
   "cell_type": "markdown",
   "metadata": {},
   "source": [
    "# Get OAuth2 Access Token specifying existing taskgroup_uuid"
   ]
  },
  {
   "cell_type": "code",
   "execution_count": null,
   "metadata": {},
   "outputs": [],
   "source": [
    "arguments = {\n",
    "             'client_id': '8c96bf8cea26fa555fa8',\n",
    "             'client_secret': '4fd1f508b7b03fba6509da4c193157d7a2b20838',\n",
    "             'grant_type': 'password',\n",
    "             'username': 'admin',\n",
    "             'password': 'admin',\n",
    "             'taskgroup': '5dw2x3jfkftxue5a5izw6yiplbbn4dlo'\n",
    "             }\n",
    "r = requests.post(\n",
    "                  'http://127.0.0.1:{server_port}/oauth2/access_token/'.format(server_port=server_port), \n",
    "                  data=arguments\n",
    "                  )\n",
    "pprint.pprint(r.json())\n",
    "access_token = json.loads(r.text)['access_token']"
   ]
  },
  {
   "cell_type": "markdown",
   "metadata": {},
   "source": [
    "# Get EHR DBService status"
   ]
  },
  {
   "cell_type": "code",
   "execution_count": null,
   "metadata": {
    "scrolled": true
   },
   "outputs": [],
   "source": [
    "payload = {'access_token': access_token}\n",
    "r = requests.get(\n",
    "    'http://127.0.0.1:{server_port}/medicalrecords/ehr/status/'.format(server_port=server_port), \n",
    "    params=payload)\n",
    "print r.text"
   ]
  },
  {
   "cell_type": "markdown",
   "metadata": {},
   "source": [
    "# Create patient record"
   ]
  },
  {
   "cell_type": "code",
   "execution_count": null,
   "metadata": {},
   "outputs": [],
   "source": [
    "payload = {'access_token': access_token, 'demographic_uuid': 'abc001'}\n",
    "\n",
    "r = requests.post(\n",
    "    'http://127.0.0.1:{server_port}/medicalrecords/patients/'.format(server_port=server_port), \n",
    "    params=payload\n",
    ")\n",
    "pprint.pprint(r.json())\n",
    "data = json.loads(r.text)\n",
    "patient_id = data['patient']['uuid']\n",
    "print 'patient id: %s' % patient_id"
   ]
  },
  {
   "cell_type": "markdown",
   "metadata": {},
   "source": [
    "# Create the EHR for the patient"
   ]
  },
  {
   "cell_type": "code",
   "execution_count": null,
   "metadata": {},
   "outputs": [],
   "source": [
    "payload = {'access_token': access_token}\n",
    "\n",
    "r = requests.post(\n",
    "    'http://127.0.0.1:{server_port}/medicalrecords/ehr/{patient_id}/'.\n",
    "    format(server_port=server_port, patient_id=patient_id), \n",
    "    params=payload\n",
    ")\n",
    "pprint.pprint(r.json())\n"
   ]
  },
  {
   "cell_type": "markdown",
   "metadata": {},
   "source": [
    "# Add a record to the EHR"
   ]
  },
  {
   "cell_type": "code",
   "execution_count": null,
   "metadata": {
    "scrolled": true
   },
   "outputs": [],
   "source": [
    "params = {'access_token': access_token}\n",
    "\n",
    "ehr_data = {\n",
    "  \"archetype_class\": \"openEHR.TEST-EVALUATION.v1\",\n",
    "  \"archetype_details\": {\n",
    "    \"at0001\": \"val1\",\n",
    "    \"at0002\": \"val2\"\n",
    "  }\n",
    "}\n",
    "\n",
    "r = requests.post(\n",
    "    'http://127.0.0.1:{server_port}/medicalrecords/ehr/{patient_id}/records/'.\n",
    "        format(server_port=server_port, patient_id=patient_id), \n",
    "    params=params, json=ehr_data\n",
    ")\n",
    "pprint.pprint(r.json())"
   ]
  },
  {
   "cell_type": "markdown",
   "metadata": {},
   "source": [
    "# Check new EHR entry for current medicalrecord patient"
   ]
  },
  {
   "cell_type": "code",
   "execution_count": null,
   "metadata": {},
   "outputs": [],
   "source": [
    "payload = {'access_token': access_token}\n",
    "r = requests.get(\n",
    "    'http://127.0.0.1:{server_port}/medicalrecords/ehr/{patient_id}/'.\n",
    "    format(server_port=server_port, patient_id=patient_id), \n",
    "    params=payload\n",
    ")\n",
    "try:\n",
    "    data = json.loads(r.text)\n",
    "except ValueError:\n",
    "    print r.text\n",
    "else:\n",
    "    print 'number of records: %s ' % len(data['record']['ehr_records'])\n",
    "    pprint.pprint(data)\n",
    "    record_id = data['record']['ehr_records'][-1]['record_id']"
   ]
  },
  {
   "cell_type": "markdown",
   "metadata": {},
   "source": [
    "# Get an ehr record"
   ]
  },
  {
   "cell_type": "code",
   "execution_count": null,
   "metadata": {},
   "outputs": [],
   "source": [
    "payload = {'access_token': access_token}\n",
    "r = requests.get(\n",
    "    'http://127.0.0.1:{server_port}/medicalrecords/ehr/{patient_id}/records/{record_id}/'.\n",
    "    format(server_port=server_port, patient_id=patient_id, record_id=record_id), \n",
    "    params=payload\n",
    ")\n",
    "pprint.pprint(r.json())"
   ]
  },
  {
   "cell_type": "markdown",
   "metadata": {},
   "source": [
    "# Delete a record from the ehr"
   ]
  },
  {
   "cell_type": "code",
   "execution_count": null,
   "metadata": {},
   "outputs": [],
   "source": [
    "payload = {'access_token': access_token}\n",
    "r = requests.delete(\n",
    "    'http://127.0.0.1:{server_port}/medicalrecords/ehr/{patient_id}/records/{record_id}/'.\n",
    "        format(server_port=server_port, patient_id=patient_id, record_id=record_id), \n",
    "    params=payload)\n",
    "\n",
    "pprint.pprint(r.json())"
   ]
  },
  {
   "cell_type": "markdown",
   "metadata": {},
   "source": [
    "# Delete ehr patient record"
   ]
  },
  {
   "cell_type": "code",
   "execution_count": null,
   "metadata": {},
   "outputs": [],
   "source": [
    "r = requests.delete(\n",
    "    'http://127.0.0.1:{server_port}/medicalrecords/ehr/{patient_id}/'.\n",
    "    format(server_port=server_port, patient_id=patient_id), \n",
    "params=payload, data={})\n",
    "\n",
    "pprint.pprint(r.json())"
   ]
  },
  {
   "cell_type": "code",
   "execution_count": null,
   "metadata": {
    "collapsed": true
   },
   "outputs": [],
   "source": []
  }
 ],
 "metadata": {
  "kernelspec": {
   "display_name": "Python 2",
   "language": "python",
   "name": "python2"
  },
  "language_info": {
   "codemirror_mode": {
    "name": "ipython",
    "version": 2
   },
   "file_extension": ".py",
   "mimetype": "text/x-python",
   "name": "python",
   "nbconvert_exporter": "python",
   "pygments_lexer": "ipython2",
   "version": "2.7.12+"
  }
 },
 "nbformat": 4,
 "nbformat_minor": 1
}
