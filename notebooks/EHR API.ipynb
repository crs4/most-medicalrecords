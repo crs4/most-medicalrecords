{
 "cells": [
  {
   "cell_type": "markdown",
   "metadata": {},
   "source": [
    "#Prerequisites#\n",
    "\n",
    "##For Server##\n",
    "- git clone https://github.com/most-medicalrecord -b develop\n",
    "- cd most-medicalrecord\n",
    "- make develop\n",
    "- make sync\n",
    "- make run\n",
    "\n",
    "##For testing API with this notebook## \n",
    "- **Requests** library <http://docs.python-requests.org/en/latest/>\n",
    "\n",
    "## For testing pyEHR API endpoint ##\n",
    "- Download ova VirtualMachine from <http://156.148.18.70/files/pyEHR.ova>\n",
    "- Run VirtualMachine (virtualbox or vmware importing vmdk virtual disk in new virtual machine)\n",
    "- Configure VirtualMachine networking with NAT or BRIDGE\n",
    "- Wait for services start (up to 5 minutes)\n",
    "- Test dbservice status calling <http://virtualmachine:8080/check/status/dbservice>\n",
    "- Configure PYEHR_DB_SERVICE_IP on django settings.py\n",
    "- stop SERVER and restart with **make run**"
   ]
  },
  {
   "cell_type": "code",
   "execution_count": 3,
   "metadata": {
    "collapsed": false
   },
   "outputs": [
    {
     "name": "stdout",
     "output_type": "stream",
     "text": [
      "{\"access_token\": \"d48152cc8b15b7eae2a65ae5b78351b40ff69018\", \"token_type\": \"Bearer\", \"expires_in\": 2591999, \"scope\": \"read\"}\n"
     ]
    }
   ],
   "source": [
    "#Get Oauth2 Access Token specifying existing taskgroup_uuid\n",
    "\n",
    "import requests\n",
    "import json\n",
    "\n",
    "arguments = {\n",
    "             'client_id': '8c96bf8cea26fa555fa8',\n",
    "             'client_secret': '4fd1f508b7b03fba6509da4c193157d7a2b20838',\n",
    "             'grant_type': 'password',\n",
    "             'username': 'admin',\n",
    "             'password': 'admin',\n",
    "             'taskgroup': '5dw2x3jfkftxue5a5izw6yiplbbn4dlo'\n",
    "             }\n",
    "r = requests.post(\n",
    "                  'http://127.0.0.1:8000/oauth2/access_token/', \n",
    "                  data=arguments\n",
    "                  )\n",
    "print r.text\n",
    "\n",
    "access_token = json.loads(r.text)['access_token']"
   ]
  },
  {
   "cell_type": "code",
   "execution_count": 4,
   "metadata": {
    "collapsed": false
   },
   "outputs": [
    {
     "name": "stdout",
     "output_type": "stream",
     "text": [
      "DBService daemon running\n"
     ]
    }
   ],
   "source": [
    "#Get EHR DBService status\n",
    "\n",
    "payload = {'access_token': access_token}\n",
    "r = requests.get(\n",
    "                    'http://127.0.0.1:8000/medicalrecords/ehr/status/', \n",
    "                    params=payload\n",
    "                  )\n",
    "print r.text"
   ]
  },
  {
   "cell_type": "code",
   "execution_count": 18,
   "metadata": {
    "collapsed": false
   },
   "outputs": [
    {
     "name": "stdout",
     "output_type": "stream",
     "text": [
      "number of records: 5 \n",
      "id of last record: 3830b0cb718c40bda1fd0d015fde7330\n"
     ]
    }
   ],
   "source": [
    "#Get EHR entry for current medicalrecord patient\n",
    "'''\n",
    "{\"patient\": {\"demographic_uuid\": \"iwjkqfvdbgfvyfqr6bxc7vzi4gsllja7\", \"ehr_uuid\": \"PATIENT_00\", \"uuid\": \"2skcdnb5jwrgdxmdbjwlrfj24icz4r5m\"}, \"success\": true}\n",
    "'''\n",
    "payload = {'access_token': access_token}\n",
    "r = requests.get(\n",
    "                    'http://127.0.0.1:8000/medicalrecords/ehr/2skcdnb5jwrgdxmdbjwlrfj24icz4r5m/', \n",
    "                    params=payload\n",
    "                  )\n",
    "data = json.loads(r.text)\n",
    "print 'number of records: %s ' % len(data['RECORD'])\n",
    "print 'id of last record: %s' % data['RECORD']['ehr_records'][-1]['record_id']"
   ]
  },
  {
   "cell_type": "code",
   "execution_count": 10,
   "metadata": {
    "collapsed": false
   },
   "outputs": [
    {
     "name": "stdout",
     "output_type": "stream",
     "text": [
      "{u'RECORD': {u'ehr_data': {u'archetype_details': {u'data': {u'at0001': [{u'events': [{u'at0006': {u'data': {u'at0003': [{u'items': {u'at0005': {u'value': {u'units': u'mm[Hg]', u'magnitude': 82}}, u'at0004': {u'value': {u'units': u'mm[Hg]', u'magnitude': 55}}}}]}}}]}]}}, u'archetype_class': u'openEHR-EHR-OBSERVATION.blood_pressure.v1'}, u'creation_time': 1432202570.738273, u'patient_id': u'PATIENT_00', u'active': True, u'version': 1, u'record_id': u'3830b0cb718c40bda1fd0d015fde7330', u'last_update': 1432202570.738273}, u'SUCCESS': True}\n"
     ]
    }
   ],
   "source": [
    "#Get specific medical record for requested patient\n",
    "'''\n",
    "{\n",
    "    \"patient\": \"2skcdnb5jwrgdxmdbjwlrfj24icz4r5m\",\n",
    "    'record' : \"3830b0cb718c40bda1fd0d015fde7330\"\n",
    "'''\n",
    "payload = {'access_token': access_token}\n",
    "r = requests.get(\n",
    "                    'http://127.0.0.1:8000/medicalrecords/ehr/2skcdnb5jwrgdxmdbjwlrfj24icz4r5m/records/3830b0cb718c40bda1fd0d015fde7330/', \n",
    "                    params=payload\n",
    "                  )\n",
    "data = json.loads(r.text)\n",
    "print data"
   ]
  },
  {
   "cell_type": "code",
   "execution_count": 7,
   "metadata": {
    "collapsed": false
   },
   "outputs": [
    {
     "name": "stdout",
     "output_type": "stream",
     "text": [
      "{\"patient\": {\"demographic_uuid\": \"xbcslwez7zqb3fd2b3uqyne6hfc7houc\", \"ehr_uuid\": \"bgnaofonqf232fwm5beilqy2rqmv5os6\", \"uuid\": \"p4qpkihuocawrwclcsmolbgu5dpp7sj3\"}, \"success\": true}\n",
      "patient id: p4qpkihuocawrwclcsmolbgu5dpp7sj3\n"
     ]
    }
   ],
   "source": [
    "#Create patient record\n",
    "payload = {'access_token': access_token}\n",
    "\n",
    "r = requests.post(\n",
    "    'http://127.0.0.1:8000/medicalrecords/patients/', \n",
    "    params=payload\n",
    ")\n",
    "print r.text\n",
    "data = json.loads(r.text)\n",
    "patient_id = data['patient']['uuid']\n",
    "print 'patient id: %s' % patient_id"
   ]
  },
  {
   "cell_type": "code",
   "execution_count": 55,
   "metadata": {
    "collapsed": false
   },
   "outputs": [
    {
     "name": "stdout",
     "output_type": "stream",
     "text": [
      "{\"RECORD\": {\"record_id\": \"jclpwzcgnqv27ghbudy4uzyyslsc4y7l\", \"active\": true, \"ehr_records\": [], \"creation_time\": 1432619387.955715, \"last_update\": 1432619387.955715}, \"SUCCESS\": true}\n"
     ]
    }
   ],
   "source": [
    "#Create ehr patient record \n",
    "payload = {'access_token': access_token}\n",
    "\n",
    "r = requests.post(\n",
    "    'http://127.0.0.1:8000/medicalrecords/ehr/{patient_id}/'.format(patient_id=patient_id), \n",
    "    params=payload\n",
    ")\n",
    "print r.text"
   ]
  },
  {
   "cell_type": "code",
   "execution_count": 49,
   "metadata": {
    "collapsed": false
   },
   "outputs": [
    {
     "name": "stdout",
     "output_type": "stream",
     "text": [
      "{\"RECORD\": {\"ehr_data\": {\"archetype_details\": {\"at0001\": \"val1\", \"at0002\": \"val2\"}, \"archetype_class\": \"openEHR.TEST-EVALUATION.v1\"}, \"creation_time\": 1432631892.471037, \"patient_id\": \"bgnaofonqf232fwm5beilqy2rqmv5os6\", \"record_id\": \"6184a061b0fc4bbd826c3e4b62d66884\", \"version\": 1, \"active\": true, \"last_update\": 1432631892.471037}, \"SUCCESS\": true}\n"
     ]
    }
   ],
   "source": [
    "#Create ehr medical record\n",
    "params = {'access_token': access_token}\n",
    "\n",
    "ehr_data = {\n",
    "  \"archetype_class\": \"openEHR.TEST-EVALUATION.v1\",\n",
    "  \"archetype_details\": {\n",
    "    \"at0001\": \"val1\",\n",
    "    \"at0002\": \"val2\"\n",
    "  }\n",
    "}\n",
    "\n",
    "r = requests.post(\n",
    "    'http://127.0.0.1:8000/medicalrecords/ehr/{patient_id}/records/'.format(patient_id=patient_id), \n",
    "    params=params, json=ehr_data\n",
    ")\n",
    "print r.text"
   ]
  },
  {
   "cell_type": "code",
   "execution_count": 24,
   "metadata": {
    "collapsed": false
   },
   "outputs": [
    {
     "name": "stdout",
     "output_type": "stream",
     "text": [
      "number of records: 5 \n",
      "id of last record: 942d21126f784800bb0f78727620d01a\n",
      "{u'ehr_data': {u'archetype_details': {}, u'archetype_class': u'openEHR.TEST-EVALUATION.v1'}, u'creation_time': 1432627699.241144, u'patient_id': u'bgnaofonqf232fwm5beilqy2rqmv5os6', u'record_id': u'942d21126f784800bb0f78727620d01a', u'version': 1, u'active': True, u'last_update': 1432627699.241144}\n"
     ]
    }
   ],
   "source": [
    "#Check new EHR entry for current medicalrecord patient\n",
    "payload = {'access_token': access_token}\n",
    "r = requests.get(\n",
    "                    'http://127.0.0.1:8000/medicalrecords/ehr/{patient_id}/'.format(patient_id=patient_id), \n",
    "                    params=payload\n",
    "                  )\n",
    "data = json.loads(r.text)\n",
    "print 'number of records: %s ' % len(data['RECORD'])\n",
    "record_id = data['RECORD']['ehr_records'][-1]['record_id']\n",
    "print 'id of last record: %s' % record_id\n",
    "print data['RECORD']['ehr_records'][-1]"
   ]
  },
  {
   "cell_type": "code",
   "execution_count": 26,
   "metadata": {
    "collapsed": false
   },
   "outputs": [
    {
     "name": "stdout",
     "output_type": "stream",
     "text": [
      "{u'RECORD': {u'ehr_data': {u'archetype_details': {u'at0001': u'val1', u'at0002': u'val2'}, u'archetype_class': u'openEHR.TEST-EVALUATION.v1'}, u'creation_time': 1432627699.241144, u'patient_id': u'bgnaofonqf232fwm5beilqy2rqmv5os6', u'active': True, u'version': 1, u'record_id': u'942d21126f784800bb0f78727620d01a', u'last_update': 1432627699.241144}, u'SUCCESS': True}\n"
     ]
    }
   ],
   "source": [
    "#Get new EHR record\n",
    "payload = {'access_token': access_token}\n",
    "r = requests.get(\n",
    "                    'http://127.0.0.1:8000/medicalrecords/ehr/{patient_id}/records/{record_id}/'.format(patient_id=patient_id, record_id=record_id), \n",
    "                    params=payload\n",
    "                  )\n",
    "data = json.loads(r.text)\n",
    "print data"
   ]
  },
  {
   "cell_type": "code",
   "execution_count": 85,
   "metadata": {
    "collapsed": false
   },
   "outputs": [
    {
     "name": "stdout",
     "output_type": "stream",
     "text": [
      "{\"MESSAGE\": \"EHR record with ID 85e2aedeea93423f98980dc029ee7a8c successfully hidden\", \"SUCCESS\": true}\n"
     ]
    }
   ],
   "source": [
    "#Create and delete new ehr medical record\n",
    "params = {'access_token': access_token}\n",
    "\n",
    "ehr_data = {\n",
    "  \"archetype_class\": \"openEHR.TEST-EVALUATION.v1\",\n",
    "  \"archetype_details\": {\n",
    "    \"at0001\": \"val1\",\n",
    "    \"at0002\": \"val2\"\n",
    "  }\n",
    "}\n",
    "\n",
    "r = requests.post(\n",
    "    'http://127.0.0.1:8000/medicalrecords/ehr/{patient_id}/records/'.format(patient_id=patient_id), \n",
    "    params=params, json=ehr_data\n",
    ")\n",
    "data = json.loads(r.text)\n",
    "record_id = data['RECORD']['record_id']\n",
    "\n",
    "payload = {'access_token': access_token}\n",
    "r = requests.delete(\n",
    "                    'http://127.0.0.1:8000/medicalrecords/ehr/{patient_id}/records/{record_id}/'.format(patient_id=patient_id, record_id=record_id), \n",
    "                    params=payload, data={})\n",
    "\n",
    "print r.text\n",
    "\n"
   ]
  },
  {
   "cell_type": "code",
   "execution_count": 90,
   "metadata": {
    "collapsed": false
   },
   "outputs": [
    {
     "name": "stdout",
     "output_type": "stream",
     "text": [
      "{\"patient\": {\"demographic_uuid\": \"k3u2m4wxm7xftntwjz7zvjuwizpg5e6j\", \"ehr_uuid\": \"stsokvb5fhgjg2rvmqrsa5ym5pv54ij2\", \"uuid\": \"nqomfg5lgqy3tk3ypyyo5h5axzuhct26\"}, \"success\": true}\n",
      "{\"RECORD\": {\"record_id\": \"stsokvb5fhgjg2rvmqrsa5ym5pv54ij2\", \"active\": true, \"ehr_records\": [], \"creation_time\": 1432635936.190988, \"last_update\": 1432635936.190988}, \"SUCCESS\": true}\n",
      "{\"RECORD\": {\"record_id\": \"stsokvb5fhgjg2rvmqrsa5ym5pv54ij2\", \"active\": false, \"ehr_records\": [], \"creation_time\": 1432635936.190988, \"last_update\": 1432635936.213754}, \"SUCCESS\": true}\n"
     ]
    }
   ],
   "source": [
    "#Create and delete patient, and ehr patient\n",
    "\n",
    "#Create medical record patient\n",
    "payload = {'access_token': access_token}\n",
    "\n",
    "r = requests.post(\n",
    "    'http://127.0.0.1:8000/medicalrecords/patients/', \n",
    "    params=payload\n",
    ")\n",
    "print r.text\n",
    "data = json.loads(r.text)\n",
    "patient_id = data['patient']['uuid']\n",
    "\n",
    "#Create ehr patient record \n",
    "payload = {'access_token': access_token}\n",
    "\n",
    "r = requests.post(\n",
    "    'http://127.0.0.1:8000/medicalrecords/ehr/{patient_id}/'.format(patient_id=patient_id), \n",
    "    params=payload\n",
    ")\n",
    "print r.text\n",
    "\n",
    "#Delete ehr patient record\n",
    "\n",
    "r = requests.delete(\n",
    "                    'http://127.0.0.1:8000/medicalrecords/ehr/{patient_id}/'.format(patient_id=patient_id), \n",
    "                    params=payload, data={})\n",
    "\n",
    "print r.text\n"
   ]
  }
 ],
 "metadata": {
  "kernelspec": {
   "display_name": "Python 2",
   "language": "python",
   "name": "python2"
  },
  "language_info": {
   "codemirror_mode": {
    "name": "ipython",
    "version": 2
   },
   "file_extension": ".py",
   "mimetype": "text/x-python",
   "name": "python",
   "nbconvert_exporter": "python",
   "pygments_lexer": "ipython2",
   "version": "2.7.8"
  }
 },
 "nbformat": 4,
 "nbformat_minor": 0
}
