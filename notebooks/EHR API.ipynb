{
 "cells": [
  {
   "cell_type": "markdown",
   "metadata": {
    "deletable": true,
    "editable": true
   },
   "source": [
    "# Prerequisites\n",
    "\n",
    "## For Server \n",
    "- git clone https://github.com/most-medicalrecord -b develop\n",
    "- cd most-medicalrecord\n",
    "- make develop\n",
    "- make sync\n",
    "- make run\n",
    "\n",
    "##For testing API with this notebook## \n",
    "- **Requests** library <http://docs.python-requests.org/en/latest/>\n",
    "\n",
    "## For testing pyEHR API endpoint\n",
    "- Download ova VirtualMachine from <http://156.148.18.70/files/pyEHR.ova>\n",
    "- Run VirtualMachine (virtualbox or vmware importing vmdk virtual disk in new virtual machine)\n",
    "- Configure VirtualMachine networking with NAT or BRIDGE\n",
    "- Wait for services start (up to 5 minutes)\n",
    "- Test dbservice status calling <http://virtualmachine:8080/check/status/dbservice>\n",
    "- Configure PYEHR_DB_SERVICE_IP on django settings.py\n",
    "- stop SERVER and restart with **make run**"
   ]
  },
  {
   "cell_type": "code",
   "execution_count": 1,
   "metadata": {
    "collapsed": false,
    "deletable": true,
    "editable": true
   },
   "outputs": [
    {
     "name": "stdout",
     "output_type": "stream",
     "text": [
      "{\"access_token\": \"2362afb4f2ec78bd0bdc5a4bfdda572962942b2e\", \"token_type\": \"Bearer\", \"expires_in\": 2591999, \"scope\": \"read\"}\n"
     ]
    }
   ],
   "source": [
    "#Get Oauth2 Access Token specifying existing taskgroup_uuid\n",
    "\n",
    "import requests\n",
    "import json\n",
    "\n",
    "server_port = 9000\n",
    "\n",
    "arguments = {\n",
    "             'client_id': '8c96bf8cea26fa555fa8',\n",
    "             'client_secret': '4fd1f508b7b03fba6509da4c193157d7a2b20838',\n",
    "             'grant_type': 'password',\n",
    "             'username': 'admin',\n",
    "             'password': 'admin',\n",
    "             'taskgroup': '5dw2x3jfkftxue5a5izw6yiplbbn4dlo'\n",
    "             }\n",
    "r = requests.post(\n",
    "                  'http://127.0.0.1:{server_port}/oauth2/access_token/'.format(server_port=server_port), \n",
    "                  data=arguments\n",
    "                  )\n",
    "print r.text\n",
    "\n",
    "access_token = json.loads(r.text)['access_token']"
   ]
  },
  {
   "cell_type": "code",
   "execution_count": 2,
   "metadata": {
    "collapsed": false,
    "deletable": true,
    "editable": true,
    "scrolled": true
   },
   "outputs": [
    {
     "name": "stdout",
     "output_type": "stream",
     "text": [
      "DBService daemon running\n"
     ]
    }
   ],
   "source": [
    "#Get EHR DBService status\n",
    "\n",
    "payload = {'access_token': access_token}\n",
    "r = requests.get(\n",
    "    'http://127.0.0.1:{server_port}/medicalrecords/ehr/status/'.format(server_port=server_port), \n",
    "    params=payload)\n",
    "print r.text"
   ]
  },
  {
   "cell_type": "code",
   "execution_count": 3,
   "metadata": {
    "collapsed": false,
    "deletable": true,
    "editable": true
   },
   "outputs": [
    {
     "name": "stdout",
     "output_type": "stream",
     "text": [
      "{\"patient\": {\"demographic_uuid\": \"ipn7fbtidx3drht27zhng4eibji7icj6\", \"ehr_uuid\": \"6w363wxy6lfzomnc2lczbrandc5yws74\", \"uuid\": \"iq6aabj7xvqml6h4hiqntkc2lyhi7huj\"}, \"success\": true}\n",
      "patient id: iq6aabj7xvqml6h4hiqntkc2lyhi7huj\n"
     ]
    }
   ],
   "source": [
    "#Create patient record\n",
    "payload = {'access_token': access_token}\n",
    "\n",
    "r = requests.post(\n",
    "    'http://127.0.0.1:{server_port}/medicalrecords/patients/'.format(server_port=server_port), \n",
    "    params=payload\n",
    ")\n",
    "print r.text\n",
    "data = json.loads(r.text)\n",
    "patient_id = data['patient']['uuid']\n",
    "print 'patient id: %s' % patient_id"
   ]
  },
  {
   "cell_type": "code",
   "execution_count": 4,
   "metadata": {
    "collapsed": false,
    "deletable": true,
    "editable": true
   },
   "outputs": [
    {
     "name": "stdout",
     "output_type": "stream",
     "text": [
      "{\"RECORD\": {\"record_id\": \"6w363wxy6lfzomnc2lczbrandc5yws74\", \"active\": true, \"ehr_records\": [], \"creation_time\": 1490371566.508712, \"last_update\": 1490371566.508712}, \"SUCCESS\": true}\n"
     ]
    }
   ],
   "source": [
    "#Create ehr patient record \n",
    "payload = {'access_token': access_token}\n",
    "\n",
    "r = requests.post(\n",
    "    'http://127.0.0.1:{server_port}/medicalrecords/ehr/{patient_id}/'.\n",
    "    format(server_port=server_port, patient_id=patient_id), \n",
    "    params=payload\n",
    ")\n",
    "print r.text"
   ]
  },
  {
   "cell_type": "code",
   "execution_count": 6,
   "metadata": {
    "collapsed": false,
    "deletable": true,
    "editable": true
   },
   "outputs": [
    {
     "name": "stdout",
     "output_type": "stream",
     "text": [
      "{\"RECORD\": {\"ehr_data\": {\"archetype_details\": {\"at0001\": \"val1\", \"at0002\": \"val2\"}, \"archetype_class\": \"openEHR.TEST-EVALUATION.v1\"}, \"creation_time\": 1490371656.850536, \"patient_id\": \"6w363wxy6lfzomnc2lczbrandc5yws74\", \"record_id\": \"a73594e16ac94b6f9dd788794a849495\", \"version\": 1, \"active\": true, \"last_update\": 1490371656.850536}, \"SUCCESS\": true}\n"
     ]
    }
   ],
   "source": [
    "#Create ehr medical record\n",
    "params = {'access_token': access_token}\n",
    "\n",
    "ehr_data = {\n",
    "  \"archetype_class\": \"openEHR.TEST-EVALUATION.v1\",\n",
    "  \"archetype_details\": {\n",
    "    \"at0001\": \"val1\",\n",
    "    \"at0002\": \"val2\"\n",
    "  }\n",
    "}\n",
    "\n",
    "r = requests.post(\n",
    "    'http://127.0.0.1:{server_port}/medicalrecords/ehr/{patient_id}/records/'.\n",
    "        format(server_port=server_port, patient_id=patient_id), \n",
    "    params=params, json=ehr_data\n",
    ")\n",
    "print r.text"
   ]
  },
  {
   "cell_type": "code",
   "execution_count": 7,
   "metadata": {
    "collapsed": false,
    "deletable": true,
    "editable": true
   },
   "outputs": [
    {
     "name": "stdout",
     "output_type": "stream",
     "text": [
      "number of records: 5 \n",
      "id of last record: a73594e16ac94b6f9dd788794a849495\n",
      "{u'ehr_data': {u'archetype_details': {}, u'archetype_class': u'openEHR.TEST-EVALUATION.v1'}, u'creation_time': 1490371656.850536, u'patient_id': u'6w363wxy6lfzomnc2lczbrandc5yws74', u'record_id': u'a73594e16ac94b6f9dd788794a849495', u'version': 1, u'active': True, u'last_update': 1490371656.850536}\n"
     ]
    }
   ],
   "source": [
    "#Check new EHR entry for current medicalrecord patient\n",
    "payload = {'access_token': access_token}\n",
    "r = requests.get(\n",
    "                    'http://127.0.0.1:{server_port}/medicalrecords/ehr/{patient_id}/'.\n",
    "                    format(server_port=server_port, patient_id=patient_id), \n",
    "                    params=payload\n",
    "                  )\n",
    "data = json.loads(r.text)\n",
    "print 'number of records: %s ' % len(data['RECORD'])\n",
    "record_id = data['RECORD']['ehr_records'][-1]['record_id']\n",
    "print 'id of last record: %s' % record_id\n",
    "print data['RECORD']['ehr_records'][-1]"
   ]
  },
  {
   "cell_type": "code",
   "execution_count": 8,
   "metadata": {
    "collapsed": false,
    "deletable": true,
    "editable": true
   },
   "outputs": [
    {
     "name": "stdout",
     "output_type": "stream",
     "text": [
      "{u'RECORD': {u'ehr_data': {u'archetype_details': {u'at0001': u'val1', u'at0002': u'val2'}, u'archetype_class': u'openEHR.TEST-EVALUATION.v1'}, u'creation_time': 1490371656.850536, u'patient_id': u'6w363wxy6lfzomnc2lczbrandc5yws74', u'active': True, u'version': 1, u'record_id': u'a73594e16ac94b6f9dd788794a849495', u'last_update': 1490371656.850536}, u'SUCCESS': True}\n"
     ]
    }
   ],
   "source": [
    "#Get new EHR record\n",
    "payload = {'access_token': access_token}\n",
    "r = requests.get(\n",
    "                    'http://127.0.0.1:{server_port}/medicalrecords/ehr/{patient_id}/records/{record_id}/'.\n",
    "                    format(server_port=server_port, patient_id=patient_id, record_id=record_id), \n",
    "                    params=payload\n",
    "                  )\n",
    "data = json.loads(r.text)\n",
    "print data"
   ]
  },
  {
   "cell_type": "code",
   "execution_count": 10,
   "metadata": {
    "collapsed": false,
    "deletable": true,
    "editable": true
   },
   "outputs": [
    {
     "name": "stdout",
     "output_type": "stream",
     "text": [
      "{\"MESSAGE\": \"EHR record with ID 9d0bc867a3484bea8655356fc34aac13 successfully hidden\", \"SUCCESS\": true}\n"
     ]
    }
   ],
   "source": [
    "#Create and delete new ehr medical record\n",
    "params = {'access_token': access_token}\n",
    "\n",
    "ehr_data = {\n",
    "  \"archetype_class\": \"openEHR.TEST-EVALUATION.v1\",\n",
    "  \"archetype_details\": {\n",
    "    \"at0001\": \"val1\",\n",
    "    \"at0002\": \"val2\"\n",
    "  }\n",
    "}\n",
    "\n",
    "r = requests.post(\n",
    "    'http://127.0.0.1:{server_port}/medicalrecords/ehr/{patient_id}/records/'.\n",
    "    format(server_port=server_port, patient_id=patient_id), \n",
    "    params=params, json=ehr_data\n",
    ")\n",
    "data = json.loads(r.text)\n",
    "record_id = data['RECORD']['record_id']\n",
    "\n",
    "payload = {'access_token': access_token}\n",
    "r = requests.delete(\n",
    "    'http://127.0.0.1:{server_port}/medicalrecords/ehr/{patient_id}/records/{record_id}/'.\n",
    "        format(server_port=server_port, patient_id=patient_id, record_id=record_id), \n",
    "    params=payload, data={})\n",
    "\n",
    "print r.text"
   ]
  },
  {
   "cell_type": "code",
   "execution_count": 12,
   "metadata": {
    "collapsed": false,
    "deletable": true,
    "editable": true
   },
   "outputs": [
    {
     "name": "stdout",
     "output_type": "stream",
     "text": [
      "{\"patient\": {\"demographic_uuid\": \"v3oxhina4qg36edwuah2pkdrebzpil2g\", \"ehr_uuid\": \"mhzchxpmmamhfsv67mdsztx3xhwy2eh7\", \"uuid\": \"vf2sd45trfsflns42srjjdsf2kgwleox\"}, \"success\": true}\n",
      "{\"RECORD\": {\"record_id\": \"mhzchxpmmamhfsv67mdsztx3xhwy2eh7\", \"active\": true, \"ehr_records\": [], \"creation_time\": 1490371966.29505, \"last_update\": 1490371966.29505}, \"SUCCESS\": true}\n",
      "{\"RECORD\": {\"record_id\": \"mhzchxpmmamhfsv67mdsztx3xhwy2eh7\", \"active\": false, \"ehr_records\": [], \"creation_time\": 1490371966.29505, \"last_update\": 1490371966.428442}, \"SUCCESS\": true}\n"
     ]
    }
   ],
   "source": [
    "#Create and delete patient, and ehr patient\n",
    "\n",
    "#Create medical record patient\n",
    "payload = {'access_token': access_token}\n",
    "\n",
    "r = requests.post(\n",
    "    'http://127.0.0.1:{server_port}/medicalrecords/patients/'.format(server_port=server_port), \n",
    "    params=payload\n",
    ")\n",
    "print r.text\n",
    "data = json.loads(r.text)\n",
    "patient_id = data['patient']['uuid']\n",
    "\n",
    "#Create ehr patient record \n",
    "payload = {'access_token': access_token}\n",
    "\n",
    "r = requests.post(\n",
    "    'http://127.0.0.1:{server_port}/medicalrecords/ehr/{patient_id}/'.\n",
    "    format(server_port=server_port, patient_id=patient_id), \n",
    "params=payload)\n",
    "print r.text\n",
    "\n",
    "#Delete ehr patient record\n",
    "\n",
    "r = requests.delete(\n",
    "    'http://127.0.0.1:{server_port}/medicalrecords/ehr/{patient_id}/'.\n",
    "    format(server_port=server_port, patient_id=patient_id), \n",
    "params=payload, data={})\n",
    "\n",
    "print r.text"
   ]
  },
  {
   "cell_type": "code",
   "execution_count": null,
   "metadata": {
    "collapsed": true
   },
   "outputs": [],
   "source": []
  }
 ],
 "metadata": {
  "kernelspec": {
   "display_name": "Python 2",
   "language": "python",
   "name": "python2"
  },
  "language_info": {
   "codemirror_mode": {
    "name": "ipython",
    "version": 2
   },
   "file_extension": ".py",
   "mimetype": "text/x-python",
   "name": "python",
   "nbconvert_exporter": "python",
   "pygments_lexer": "ipython2",
   "version": "2.7.12"
  }
 },
 "nbformat": 4,
 "nbformat_minor": 0
}
