{
 "cells": [
  {
   "cell_type": "markdown",
   "metadata": {},
   "source": [
    "#Prerequisites#\n",
    "\n",
    "##For Server##\n",
    "- git clone https://github.com/most-medicalrecord -b develop\n",
    "- cd most-medicalrecord\n",
    "- make develop\n",
    "- make sync\n",
    "- make run\n",
    "\n",
    "##For testing API with this notebook## \n",
    "- **Requests** library <http://docs.python-requests.org/en/latest/>\n",
    "\n",
    "## For testing pyEHR API endpoint ##\n",
    "- Download ova VirtualMachine from <http://156.148.18.70/files/pyEHR.ova>\n",
    "- Run VirtualMachine (virtualbox or vmware importing vmdk virtual disk in new virtual machine)\n",
    "- Configure VirtualMachine networking with NAT or BRIDGE\n",
    "- Wait for services start (up to 5 minutes)\n",
    "- Test dbservice status calling <http://virtualmachine:8080/check/status/dbservice>\n",
    "- Configure PYEHR_DB_SERVICE_IP on django settings.py\n",
    "- stop SERVER and restart with **make run**"
   ]
  },
  {
   "cell_type": "code",
   "execution_count": 1,
   "metadata": {
    "collapsed": false
   },
   "outputs": [
    {
     "name": "stdout",
     "output_type": "stream",
     "text": [
      "{\"access_token\": \"4a981ef2d93b78c9c163feafc5e7abff473e7ba2\", \"token_type\": \"Bearer\", \"expires_in\": 2591999, \"scope\": \"read\"}\n"
     ]
    }
   ],
   "source": [
    "#Get Oauth2 Access Token specifying existing taskgroup_uuid\n",
    "\n",
    "import requests\n",
    "import json\n",
    "\n",
    "arguments = {\n",
    "             'client_id': '8c96bf8cea26fa555fa8',\n",
    "             'client_secret': '4fd1f508b7b03fba6509da4c193157d7a2b20838',\n",
    "             'grant_type': 'password',\n",
    "             'username': 'admin',\n",
    "             'password': 'admin',\n",
    "             'taskgroup': '5dw2x3jfkftxue5a5izw6yiplbbn4dlo'\n",
    "             }\n",
    "r = requests.post(\n",
    "                  'http://127.0.0.1:8000/oauth2/access_token/', \n",
    "                  data=arguments\n",
    "                  )\n",
    "print r.text\n",
    "\n",
    "access_token = json.loads(r.text)['access_token']"
   ]
  },
  {
   "cell_type": "code",
   "execution_count": 4,
   "metadata": {
    "collapsed": false
   },
   "outputs": [
    {
     "name": "stdout",
     "output_type": "stream",
     "text": [
      "authenticated pong\n"
     ]
    }
   ],
   "source": [
    "#Test authenticated url\n",
    "\n",
    "payload = {'access_token': access_token}\n",
    "r = requests.get(\n",
    "                    'http://127.0.0.1:8000/medicalrecords/ping/auth/', \n",
    "                    params=payload\n",
    "                  )\n",
    "print r.text"
   ]
  },
  {
   "cell_type": "code",
   "execution_count": 6,
   "metadata": {
    "collapsed": false
   },
   "outputs": [
    {
     "name": "stdout",
     "output_type": "stream",
     "text": [
      "{\"patient\": {\"demographic_uuid\": \"iwjkqfvdbgfvyfqr6bxc7vzi4gsllja7\", \"ehr_uuid\": \"PATIENT_00\", \"uuid\": \"2skcdnb5jwrgdxmdbjwlrfj24icz4r5m\"}, \"success\": true}\n"
     ]
    }
   ],
   "source": [
    "#Create new patient record with existing demographics and ehr uuid\n",
    "\n",
    "payload = {'access_token': access_token, 'ehr_uuid' : 'PATIENT_00'}\n",
    "\n",
    "r = requests.post(\n",
    "    'http://127.0.0.1:8000/medicalrecords/patients/', \n",
    "    params=payload\n",
    ")\n",
    "print r.text"
   ]
  },
  {
   "cell_type": "code",
   "execution_count": 3,
   "metadata": {
    "collapsed": false
   },
   "outputs": [
    {
     "name": "stdout",
     "output_type": "stream",
     "text": [
      "{\"patients\": [{\"demographic_uuid\": \"dey4o2f6qgv6txbm7z3rpjfdrjdpchks\", \"ehr_uuid\": \"TEST_EHR_ID3\", \"uuid\": \"myqbeldnlts5gqll55ixbvijn5omh6b7\"}, {\"demographic_uuid\": \"iwjkqfvdbgfvyfqr6bxc7vzi4gsllja7\", \"ehr_uuid\": \"PATIENT_00\", \"uuid\": \"2skcdnb5jwrgdxmdbjwlrfj24icz4r5m\"}, {\"demographic_uuid\": \"7om7k5w4dxeza2otr2c65t7w47hkomm4\", \"ehr_uuid\": \"5qu2u7nn56z4wnkqytshi5v5yko2thmr\", \"uuid\": \"gi6lo26cm5nozvdm5k5jninbuwvowps5\"}, {\"demographic_uuid\": \"xekohzr4lueysrp6bd6yqtrmjl32lwdc\", \"ehr_uuid\": \"inowhdkyjr3hyhukpqslgea2gh47nzj7\", \"uuid\": \"t62fyuhvpsgv53iwkglijw3rjfzwyxua\"}, {\"demographic_uuid\": \"yeuihlc2adpsckjchezjuqdfd2s3npkm\", \"ehr_uuid\": \"jclpwzcgnqv27ghbudy4uzyyslsc4y7l\", \"uuid\": \"fdtejeernul5hwh575tmeeeuoh3wzlow\"}, {\"demographic_uuid\": \"xbcslwez7zqb3fd2b3uqyne6hfc7houc\", \"ehr_uuid\": \"bgnaofonqf232fwm5beilqy2rqmv5os6\", \"uuid\": \"p4qpkihuocawrwclcsmolbgu5dpp7sj3\"}], \"success\": true}\n"
     ]
    }
   ],
   "source": [
    "#Retrieve all patients for taskgroup\n",
    "payload = {'access_token': access_token}\n",
    "\n",
    "r = requests.get(\n",
    "    'http://127.0.0.1:8000/medicalrecords/patients/', \n",
    "    params=payload\n",
    ")\n",
    "print r.text\n",
    "data = json.loads(r.text)\n",
    "patient_uuid = data['patients'][0]['uuid']"
   ]
  },
  {
   "cell_type": "code",
   "execution_count": 36,
   "metadata": {
    "collapsed": false
   },
   "outputs": [
    {
     "name": "stdout",
     "output_type": "stream",
     "text": [
      "{\"patient\": {\"demographic_uuid\": \"dey4o2f6qgv6txbm7z3rpjfdrjdpchks\", \"ehr_uuid\": \"TEST_EHR_ID2\", \"uuid\": \"myqbeldnlts5gqll55ixbvijn5omh6b7\"}, \"success\": true}\n"
     ]
    }
   ],
   "source": [
    "#Retrieve patient by uuid\n",
    "payload = {'access_token': access_token}\n",
    "\n",
    "r = requests.get(\n",
    "    'http://127.0.0.1:8000/medicalrecords/patients/{patient_uuid}/'.format(patient_uuid=patient_uuid), \n",
    "    params=payload\n",
    ")\n",
    "print r.text"
   ]
  },
  {
   "cell_type": "code",
   "execution_count": 37,
   "metadata": {
    "collapsed": false
   },
   "outputs": [
    {
     "name": "stdout",
     "output_type": "stream",
     "text": [
      "{\"patient\": {\"demographic_uuid\": \"dey4o2f6qgv6txbm7z3rpjfdrjdpchks\", \"ehr_uuid\": \"TEST_EHR_ID3\", \"uuid\": \"myqbeldnlts5gqll55ixbvijn5omh6b7\"}, \"success\": true}\n"
     ]
    }
   ],
   "source": [
    "#Update patient data by uuid\n",
    "payload = {'access_token': access_token, 'ehr_uuid' : 'TEST_EHR_ID3'}\n",
    "\n",
    "r = requests.put(\n",
    "    'http://127.0.0.1:8000/medicalrecords/patients/{patient_uuid}/'.format(patient_uuid=patient_uuid), \n",
    "    params=payload, data=data\n",
    ")\n",
    "print r.text"
   ]
  },
  {
   "cell_type": "code",
   "execution_count": 4,
   "metadata": {
    "collapsed": false
   },
   "outputs": [
    {
     "name": "stdout",
     "output_type": "stream",
     "text": [
      "{\"patient\": {\"demographic_uuid\": \"dey4o2f6qgv6txbm7z3rpjfdrjdpchks\", \"ehr_uuid\": \"TEST_EHR_ID3\", \"uuid\": \"myqbeldnlts5gqll55ixbvijn5omh6b7\"}, \"success\": true}\n"
     ]
    }
   ],
   "source": [
    "#Delete patient by uuid\n",
    "payload = {'access_token': access_token}\n",
    "\n",
    "r = requests.delete(\n",
    "    'http://127.0.0.1:8000/medicalrecords/patients/{patient_uuid}/'.format(patient_uuid=patient_uuid), \n",
    "    params=payload, data=data\n",
    ")\n",
    "print r.text"
   ]
  }
 ],
 "metadata": {
  "kernelspec": {
   "display_name": "Python 2",
   "language": "python",
   "name": "python2"
  },
  "language_info": {
   "codemirror_mode": {
    "name": "ipython",
    "version": 2
   },
   "file_extension": ".py",
   "mimetype": "text/x-python",
   "name": "python",
   "nbconvert_exporter": "python",
   "pygments_lexer": "ipython2",
   "version": "2.7.8"
  }
 },
 "nbformat": 4,
 "nbformat_minor": 0
}
